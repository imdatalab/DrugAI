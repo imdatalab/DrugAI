{
  "nbformat": 4,
  "nbformat_minor": 0,
  "metadata": {
    "colab": {
      "provenance": []
    },
    "kernelspec": {
      "name": "python3",
      "display_name": "Python 3"
    },
    "language_info": {
      "name": "python"
    },
    "accelerator": "GPU"
  },
  "cells": [
    {
      "cell_type": "code",
      "execution_count": 1,
      "metadata": {
        "colab": {
          "base_uri": "https://localhost:8080/",
          "height": 0
        },
        "id": "FxOBV33WMzOe",
        "outputId": "71361513-7bbb-46a5-dbb5-c485b6cdb088"
      },
      "outputs": [
        {
          "output_type": "stream",
          "name": "stdout",
          "text": [
            "Looking in indexes: https://pypi.org/simple, https://us-python.pkg.dev/colab-wheels/public/simple/\n",
            "Collecting deepchem\n",
            "  Downloading deepchem-2.6.1-py3-none-any.whl (608 kB)\n",
            "\u001b[K     |████████████████████████████████| 608 kB 30.2 MB/s \n",
            "\u001b[?25hRequirement already satisfied: scipy in /usr/local/lib/python3.7/dist-packages (from deepchem) (1.7.3)\n",
            "Requirement already satisfied: joblib in /usr/local/lib/python3.7/dist-packages (from deepchem) (1.2.0)\n",
            "Requirement already satisfied: scikit-learn in /usr/local/lib/python3.7/dist-packages (from deepchem) (1.0.2)\n",
            "Collecting rdkit-pypi\n",
            "  Downloading rdkit_pypi-2022.3.5-cp37-cp37m-manylinux_2_17_x86_64.manylinux2014_x86_64.whl (36.8 MB)\n",
            "\u001b[K     |████████████████████████████████| 36.8 MB 37 kB/s \n",
            "\u001b[?25hRequirement already satisfied: numpy>=1.21 in /usr/local/lib/python3.7/dist-packages (from deepchem) (1.21.6)\n",
            "Requirement already satisfied: pandas in /usr/local/lib/python3.7/dist-packages (from deepchem) (1.3.5)\n",
            "Requirement already satisfied: python-dateutil>=2.7.3 in /usr/local/lib/python3.7/dist-packages (from pandas->deepchem) (2.8.2)\n",
            "Requirement already satisfied: pytz>=2017.3 in /usr/local/lib/python3.7/dist-packages (from pandas->deepchem) (2022.4)\n",
            "Requirement already satisfied: six>=1.5 in /usr/local/lib/python3.7/dist-packages (from python-dateutil>=2.7.3->pandas->deepchem) (1.15.0)\n",
            "Requirement already satisfied: Pillow in /usr/local/lib/python3.7/dist-packages (from rdkit-pypi->deepchem) (7.1.2)\n",
            "Requirement already satisfied: threadpoolctl>=2.0.0 in /usr/local/lib/python3.7/dist-packages (from scikit-learn->deepchem) (3.1.0)\n",
            "Installing collected packages: rdkit-pypi, deepchem\n",
            "Successfully installed deepchem-2.6.1 rdkit-pypi-2022.3.5\n"
          ]
        }
      ],
      "source": [
        "!pip install deepchem"
      ]
    },
    {
      "cell_type": "code",
      "source": [
        "import deepchem as dc\n",
        "import tensorflow as tf\n",
        "import torch"
      ],
      "metadata": {
        "id": "-6cyufgPNaTB"
      },
      "execution_count": 2,
      "outputs": []
    },
    {
      "cell_type": "markdown",
      "source": [
        "# Tensorflow Keras Model 만들기\n",
        "- dc.models 모듈이 제공하는 KerasModel을 사용"
      ],
      "metadata": {
        "id": "KhGTuCNoNec_"
      }
    },
    {
      "cell_type": "code",
      "source": [
        "keras_model = tf.keras.Sequential([\n",
        "    tf.keras.layers.Dense(1000, activation='relu'),\n",
        "    tf.keras.layers.Dropout(0.5),\n",
        "    tf.keras.layers.Dense(1)\n",
        "])\n",
        "model = dc.models.KerasModel(keras_model, dc.models.losses.L2Loss())"
      ],
      "metadata": {
        "id": "WexU4fn_NqAq"
      },
      "execution_count": 3,
      "outputs": []
    },
    {
      "cell_type": "code",
      "source": [
        "tasks, datasets, transformers = dc.molnet.load_delaney(featurizer='ECFP', splitter='random')\n",
        "train_dataset, valid_dataset, test_dataset = datasets\n",
        "\n",
        "model.fit(train_dataset, nb_epoch=50)\n",
        "\n",
        "metric = dc.metrics.Metric(dc.metrics.mean_squared_error)\n",
        "\n",
        "print('training set score:', model.evaluate(train_dataset, [metric]))\n",
        "print('test set score:', model.evaluate(test_dataset, [metric]))"
      ],
      "metadata": {
        "colab": {
          "base_uri": "https://localhost:8080/",
          "height": 0
        },
        "id": "yiqiB62MNuto",
        "outputId": "3660505e-f625-4e84-b241-d726ce8e8213"
      },
      "execution_count": 4,
      "outputs": [
        {
          "output_type": "stream",
          "name": "stdout",
          "text": [
            "training set score: {'mean_squared_error': 0.016998797631284805}\n",
            "test set score: {'mean_squared_error': 0.37252119427686536}\n"
          ]
        }
      ]
    },
    {
      "cell_type": "markdown",
      "source": [
        "# Torch Model 만들기\n",
        "- torch.nn.Module 사용"
      ],
      "metadata": {
        "id": "W88KNk0POJSa"
      }
    },
    {
      "cell_type": "code",
      "source": [
        "pytorch_model = torch.nn.Sequential(\n",
        "    torch.nn.Linear(1024, 1000),\n",
        "    torch.nn.ReLU(),\n",
        "    torch.nn.Dropout(0.5),\n",
        "    torch.nn.Linear(1000, 1)\n",
        ")\n",
        "\n",
        "model = dc.models.TorchModel(pytorch_model, dc.models.losses.L2Loss())\n"
      ],
      "metadata": {
        "id": "7h7oJowwOQ1p"
      },
      "execution_count": 5,
      "outputs": []
    },
    {
      "cell_type": "code",
      "source": [
        "model.fit(train_dataset, nb_epoch=50)\n",
        "\n",
        "print('training set score:', model.evaluate(train_dataset, [metric]))\n",
        "print('test set score:', model.evaluate(test_dataset, [metric]))"
      ],
      "metadata": {
        "colab": {
          "base_uri": "https://localhost:8080/",
          "height": 0
        },
        "id": "hFqkekNcOXuO",
        "outputId": "c6ba5e53-a7cf-42af-afdb-fdab2e58b0fc"
      },
      "execution_count": 6,
      "outputs": [
        {
          "output_type": "stream",
          "name": "stdout",
          "text": [
            "training set score: {'mean_squared_error': 0.01648045789747482}\n",
            "test set score: {'mean_squared_error': 0.39780620162985697}\n"
          ]
        }
      ]
    },
    {
      "cell_type": "markdown",
      "source": [
        "# 이진 분류 모델 만들기\n",
        "- 알츠하이머의 원인으로 지목되는 BACE-1 효소를 분자가 저해하는지 예측하는 이진 분류\n",
        "- dc.molnet.load_bace_classification()\n",
        "- 치매 환자의 뇌를 관찰한 결과, BACE1의 발현양이 정상인의 2~3배를 넘는 것으로 밝혀져 BACE1을 타깃으로 하는 약물 개발이 활발히 이뤄졌지만 임상에서 실패"
      ],
      "metadata": {
        "id": "qjdNeTe1PNA6"
      }
    },
    {
      "cell_type": "code",
      "source": [
        "class MyModel(tf.keras.Model):\n",
        "    \n",
        "    def __init__(self):\n",
        "        super(MyModel, self).__init__()\n",
        "        self.dense1 = tf.keras.layers.Dense(1000, activation='relu')\n",
        "        self.dense2 = tf.keras.layers.Dense(1)\n",
        "\n",
        "    def call(self, inputs, training=False):\n",
        "        y = self.dense1(inputs)\n",
        "        if training:\n",
        "            y = tf.nn.dropout(y, 0.5)\n",
        "        logits = self.dense2(y)\n",
        "        output = tf.nn.sigmoid(logits)\n",
        "        return output, logits"
      ],
      "metadata": {
        "id": "LNEQoNQcO26p"
      },
      "execution_count": 7,
      "outputs": []
    },
    {
      "cell_type": "code",
      "source": [
        "keras_model = MyModel()\n",
        "output_types = ['prediction', 'loss']\n",
        "model = dc.models.KerasModel(keras_model, \n",
        "      dc.models.losses.SigmoidCrossEntropy(), output_types=output_types)"
      ],
      "metadata": {
        "id": "Sgadr0EvP1QI"
      },
      "execution_count": 8,
      "outputs": []
    },
    {
      "cell_type": "code",
      "source": [
        "tasks, datasets, transformers = dc.molnet.load_bace_classification(feturizer='ECFP', splitter='scaffold')\n",
        "train_dataset, valid_dataset, test_dataset = datasets\n",
        "\n",
        "model.fit(train_dataset, nb_epoch=50)\n",
        "\n",
        "metric1 = dc.metrics.Metric(dc.metrics.roc_auc_score)\n",
        "metric2 = dc.metrics.Metric(dc.metrics.accuracy_score)\n",
        "\n",
        "print('training set score:', model.evaluate(train_dataset, [metric1, metric2]))\n",
        "print('test set score:', model.evaluate(test_dataset, [metric1, metric2]))"
      ],
      "metadata": {
        "colab": {
          "base_uri": "https://localhost:8080/",
          "height": 0
        },
        "id": "qYK3XpudP4Ia",
        "outputId": "e6111b2a-e36c-4d5c-e9f8-d23c13a0887d"
      },
      "execution_count": 9,
      "outputs": [
        {
          "output_type": "stream",
          "name": "stdout",
          "text": [
            "training set score: {'roc_auc_score': 0.9995334218062443, 'accuracy_score': 0.9859504132231405}\n",
            "test set score: {'roc_auc_score': 0.7708333333333334, 'accuracy_score': 0.6710526315789473}\n"
          ]
        }
      ]
    },
    {
      "cell_type": "markdown",
      "source": [
        "# 모델 최적화하기\n",
        "- HIV dataset : 40,000 이상 분자 데이터로 inhibit HIV replication 예측하는 모델\n",
        "- 에이즈 치료제는 인간 면역결핍 바이러스(HIV)의 증식을 억제하여 질병의 진행을 지연시키는 약물"
      ],
      "metadata": {
        "id": "Mr5oLqxuQfkK"
      }
    },
    {
      "cell_type": "code",
      "source": [
        "tasks, datasets, transformers = dc.molnet.load_hiv(featurizer='ECFP', splitter='scaffold')\n",
        "train_dataset, valid_dataset, test_dataset = datasets"
      ],
      "metadata": {
        "id": "ZGKzuNXTQxnQ"
      },
      "execution_count": 10,
      "outputs": []
    },
    {
      "cell_type": "code",
      "source": [
        "params_dict = {\n",
        "    'n_tasks': [len(tasks)],\n",
        "    'n_features': [1024],\n",
        "    'layer_sizes': [[500], [1000], [1000, 1000]],\n",
        "    'dropouts': [0.2, 0.5],\n",
        "    'learning_rate': [0.001, 0.0001]\n",
        "}\n",
        "optimizer = dc.hyper.GridHyperparamOpt(dc.models.MultitaskClassifier)\n",
        "metric = dc.metrics.Metric(dc.metrics.roc_auc_score)\n",
        "best_model, best_hyperparams, all_results = optimizer.hyperparam_search(\n",
        "        params_dict, train_dataset, valid_dataset, metric, transformers)"
      ],
      "metadata": {
        "id": "Z267Zyh4REVI"
      },
      "execution_count": 11,
      "outputs": []
    },
    {
      "cell_type": "code",
      "source": [
        "all_results"
      ],
      "metadata": {
        "colab": {
          "base_uri": "https://localhost:8080/",
          "height": 0
        },
        "id": "xC4YUlIfSQHi",
        "outputId": "4510d6a2-5cc1-41d2-d9d8-54ab36082a96"
      },
      "execution_count": 12,
      "outputs": [
        {
          "output_type": "execute_result",
          "data": {
            "text/plain": [
              "{'_dropouts_0.200000_layer_sizes[500]_learning_rate_0.001000_n_features_1024_n_tasks_1': 0.7680071771506956,\n",
              " '_dropouts_0.200000_layer_sizes[500]_learning_rate_0.000100_n_features_1024_n_tasks_1': 0.7797542499510092,\n",
              " '_dropouts_0.500000_layer_sizes[500]_learning_rate_0.001000_n_features_1024_n_tasks_1': 0.7755624755046051,\n",
              " '_dropouts_0.500000_layer_sizes[500]_learning_rate_0.000100_n_features_1024_n_tasks_1': 0.7593128429355281,\n",
              " '_dropouts_0.200000_layer_sizes[1000]_learning_rate_0.001000_n_features_1024_n_tasks_1': 0.7815026087595531,\n",
              " '_dropouts_0.200000_layer_sizes[1000]_learning_rate_0.000100_n_features_1024_n_tasks_1': 0.7747020747599451,\n",
              " '_dropouts_0.500000_layer_sizes[1000]_learning_rate_0.001000_n_features_1024_n_tasks_1': 0.7730027067411327,\n",
              " '_dropouts_0.500000_layer_sizes[1000]_learning_rate_0.000100_n_features_1024_n_tasks_1': 0.7579104815794631,\n",
              " '_dropouts_0.200000_layer_sizes[1000, 1000]_learning_rate_0.001000_n_features_1024_n_tasks_1': 0.7494220617773859,\n",
              " '_dropouts_0.200000_layer_sizes[1000, 1000]_learning_rate_0.000100_n_features_1024_n_tasks_1': 0.7716646457965902,\n",
              " '_dropouts_0.500000_layer_sizes[1000, 1000]_learning_rate_0.001000_n_features_1024_n_tasks_1': 0.7059787135018616,\n",
              " '_dropouts_0.500000_layer_sizes[1000, 1000]_learning_rate_0.000100_n_features_1024_n_tasks_1': 0.763140248383304}"
            ]
          },
          "metadata": {},
          "execution_count": 12
        }
      ]
    },
    {
      "cell_type": "code",
      "source": [
        "best_hyperparams"
      ],
      "metadata": {
        "colab": {
          "base_uri": "https://localhost:8080/",
          "height": 0
        },
        "id": "XB4m_X4dRdJV",
        "outputId": "e58526d7-b3d7-4eed-9174-b3a14aae4f77"
      },
      "execution_count": 13,
      "outputs": [
        {
          "output_type": "execute_result",
          "data": {
            "text/plain": [
              "{'n_tasks': 1,\n",
              " 'n_features': 1024,\n",
              " 'layer_sizes': [1000],\n",
              " 'dropouts': 0.2,\n",
              " 'learning_rate': 0.001}"
            ]
          },
          "metadata": {},
          "execution_count": 13
        }
      ]
    },
    {
      "cell_type": "markdown",
      "source": [
        "# Early Stopping 이용하기\n",
        "- ValidationCallback()를 사용하여 성능을 기록해준다"
      ],
      "metadata": {
        "id": "oKg7xQq3Ri-T"
      }
    },
    {
      "cell_type": "code",
      "source": [
        "model = dc.models.MultitaskClassifier(n_tasks=len(tasks),\n",
        "                                      n_features=1024,\n",
        "                                      layer_sizes=[500],\n",
        "                                      dropouts=0.2,\n",
        "                                      learning_rate=0.001)\n",
        "\n",
        "metric = dc.metrics.Metric(dc.metrics.roc_auc_score)\n",
        "\n",
        "callback = dc.models.ValidationCallback(valid_dataset, 1000, metrics=metric)\n",
        "\n",
        "model.fit(train_dataset, nb_epoch=50, callbacks=callback)"
      ],
      "metadata": {
        "colab": {
          "base_uri": "https://localhost:8080/",
          "height": 0
        },
        "id": "DXHjitXTRgYb",
        "outputId": "27bda202-8508-4b9f-935a-f9f8ef34b6a3"
      },
      "execution_count": 14,
      "outputs": [
        {
          "output_type": "stream",
          "name": "stdout",
          "text": [
            "Step 1000 validation: roc_auc_score=0.772182\n",
            "Step 2000 validation: roc_auc_score=0.777096\n",
            "Step 3000 validation: roc_auc_score=0.767224\n",
            "Step 4000 validation: roc_auc_score=0.753462\n",
            "Step 5000 validation: roc_auc_score=0.756655\n",
            "Step 6000 validation: roc_auc_score=0.75419\n",
            "Step 7000 validation: roc_auc_score=0.75793\n",
            "Step 8000 validation: roc_auc_score=0.74253\n",
            "Step 9000 validation: roc_auc_score=0.738502\n",
            "Step 10000 validation: roc_auc_score=0.729027\n",
            "Step 11000 validation: roc_auc_score=0.720942\n",
            "Step 12000 validation: roc_auc_score=0.73735\n",
            "Step 13000 validation: roc_auc_score=0.73015\n",
            "Step 14000 validation: roc_auc_score=0.725297\n",
            "Step 15000 validation: roc_auc_score=0.718996\n",
            "Step 16000 validation: roc_auc_score=0.708228\n"
          ]
        },
        {
          "output_type": "execute_result",
          "data": {
            "text/plain": [
              "0.0195554518699646"
            ]
          },
          "metadata": {},
          "execution_count": 14
        }
      ]
    },
    {
      "cell_type": "markdown",
      "source": [
        "# 학습률 조정하기\n",
        "- ExponentialDecay()를 사용"
      ],
      "metadata": {
        "id": "fzBT_koZRxJq"
      }
    },
    {
      "cell_type": "code",
      "source": [
        "learning_rate = dc.models.optimizers.ExponentialDecay(0.0002, 0.9, 1000)\n",
        "\n",
        "model = dc.models.MultitaskClassifier(n_tasks=len(tasks),\n",
        "                                      n_features=1024,\n",
        "                                      layer_sizes=[1000],\n",
        "                                      dropouts=0.2,\n",
        "                                      learning_rate=learning_rate)\n",
        "\n",
        "model.fit(train_dataset, nb_epoch=50, callbacks=callback)"
      ],
      "metadata": {
        "colab": {
          "base_uri": "https://localhost:8080/",
          "height": 0
        },
        "id": "dxXNpQ1eRutR",
        "outputId": "d921ba5f-a2ae-4a97-935d-51543d66b3bb"
      },
      "execution_count": 15,
      "outputs": [
        {
          "output_type": "stream",
          "name": "stdout",
          "text": [
            "Step 1000 validation: roc_auc_score=0.753691\n",
            "Step 2000 validation: roc_auc_score=0.759846\n",
            "Step 3000 validation: roc_auc_score=0.76894\n",
            "Step 4000 validation: roc_auc_score=0.767041\n",
            "Step 5000 validation: roc_auc_score=0.766646\n",
            "Step 6000 validation: roc_auc_score=0.774791\n",
            "Step 7000 validation: roc_auc_score=0.767038\n",
            "Step 8000 validation: roc_auc_score=0.75814\n",
            "Step 9000 validation: roc_auc_score=0.769319\n",
            "Step 10000 validation: roc_auc_score=0.7625\n",
            "Step 11000 validation: roc_auc_score=0.762794\n",
            "Step 12000 validation: roc_auc_score=0.76916\n",
            "Step 13000 validation: roc_auc_score=0.763477\n",
            "Step 14000 validation: roc_auc_score=0.763887\n",
            "Step 15000 validation: roc_auc_score=0.766563\n",
            "Step 16000 validation: roc_auc_score=0.767583\n"
          ]
        },
        {
          "output_type": "execute_result",
          "data": {
            "text/plain": [
              "0.5475979995727539"
            ]
          },
          "metadata": {},
          "execution_count": 15
        }
      ]
    },
    {
      "cell_type": "code",
      "source": [
        "model.evaluate(valid_dataset, [metric])"
      ],
      "metadata": {
        "colab": {
          "base_uri": "https://localhost:8080/",
          "height": 0
        },
        "id": "reEjDKWxR5uR",
        "outputId": "3582844a-c4a7-485e-ba1c-4ae4173843e6"
      },
      "execution_count": 16,
      "outputs": [
        {
          "output_type": "execute_result",
          "data": {
            "text/plain": [
              "{'roc_auc_score': 0.7676810822065452}"
            ]
          },
          "metadata": {},
          "execution_count": 16
        }
      ]
    }
  ]
}