{
  "nbformat": 4,
  "nbformat_minor": 0,
  "metadata": {
    "colab": {
      "provenance": []
    },
    "kernelspec": {
      "name": "python3",
      "display_name": "Python 3"
    },
    "language_info": {
      "name": "python"
    }
  },
  "cells": [
    {
      "cell_type": "markdown",
      "source": [
        "# **AI를 이용한 신약 개발 실습 2**\n",
        "- 2022년 10월 14일 의료정보학교실 이화민"
      ],
      "metadata": {
        "id": "yrFccesFSYL0"
      }
    },
    {
      "cell_type": "code",
      "execution_count": 1,
      "metadata": {
        "colab": {
          "base_uri": "https://localhost:8080/",
          "height": 0
        },
        "id": "CgvirH5wpfkZ",
        "outputId": "983dd32f-7ef7-41c4-9979-3ac82f819f62"
      },
      "outputs": [
        {
          "output_type": "stream",
          "name": "stdout",
          "text": [
            "Looking in indexes: https://pypi.org/simple, https://us-python.pkg.dev/colab-wheels/public/simple/\n",
            "Collecting deepchem\n",
            "  Downloading deepchem-2.6.1-py3-none-any.whl (608 kB)\n",
            "\u001b[K     |████████████████████████████████| 608 kB 4.3 MB/s \n",
            "\u001b[?25hRequirement already satisfied: joblib in /usr/local/lib/python3.7/dist-packages (from deepchem) (1.2.0)\n",
            "Requirement already satisfied: scipy in /usr/local/lib/python3.7/dist-packages (from deepchem) (1.7.3)\n",
            "Requirement already satisfied: scikit-learn in /usr/local/lib/python3.7/dist-packages (from deepchem) (1.0.2)\n",
            "Requirement already satisfied: pandas in /usr/local/lib/python3.7/dist-packages (from deepchem) (1.3.5)\n",
            "Collecting rdkit-pypi\n",
            "  Downloading rdkit_pypi-2022.3.5-cp37-cp37m-manylinux_2_17_x86_64.manylinux2014_x86_64.whl (36.8 MB)\n",
            "\u001b[K     |████████████████████████████████| 36.8 MB 33 kB/s \n",
            "\u001b[?25hRequirement already satisfied: numpy>=1.21 in /usr/local/lib/python3.7/dist-packages (from deepchem) (1.21.6)\n",
            "Requirement already satisfied: pytz>=2017.3 in /usr/local/lib/python3.7/dist-packages (from pandas->deepchem) (2022.4)\n",
            "Requirement already satisfied: python-dateutil>=2.7.3 in /usr/local/lib/python3.7/dist-packages (from pandas->deepchem) (2.8.2)\n",
            "Requirement already satisfied: six>=1.5 in /usr/local/lib/python3.7/dist-packages (from python-dateutil>=2.7.3->pandas->deepchem) (1.15.0)\n",
            "Requirement already satisfied: Pillow in /usr/local/lib/python3.7/dist-packages (from rdkit-pypi->deepchem) (7.1.2)\n",
            "Requirement already satisfied: threadpoolctl>=2.0.0 in /usr/local/lib/python3.7/dist-packages (from scikit-learn->deepchem) (3.1.0)\n",
            "Installing collected packages: rdkit-pypi, deepchem\n",
            "Successfully installed deepchem-2.6.1 rdkit-pypi-2022.3.5\n"
          ]
        }
      ],
      "source": [
        "!pip install deepchem"
      ]
    },
    {
      "cell_type": "code",
      "source": [
        "import deepchem as dc\n",
        "from rdkit import Chem\n",
        "from rdkit.Chem import Draw\n",
        "from rdkit.Chem.Draw import IPythonConsole\n",
        "IPythonConsole.ipython_useSVG=True\n",
        "from rdkit.Chem import Descriptors, Lipinski\n",
        "from rdkit.Chem import AllChem\n",
        "from rdkit import DataStructs\n",
        "import numpy as np\n",
        "import pandas as pd\n",
        "import matplotlib.pyplot as plt\n",
        "import seaborn as sns"
      ],
      "metadata": {
        "id": "1k9xNDNRppXT"
      },
      "execution_count": 3,
      "outputs": []
    },
    {
      "cell_type": "code",
      "source": [
        "m = Chem.MolFromSmiles('Cc1ccccc1')\n",
        "m"
      ],
      "metadata": {
        "colab": {
          "base_uri": "https://localhost:8080/",
          "height": 171
        },
        "id": "G6z5yaLop3lp",
        "outputId": "dd00f556-118a-430b-ff73-670691e3e224"
      },
      "execution_count": 5,
      "outputs": [
        {
          "output_type": "execute_result",
          "data": {
            "text/plain": [
              "<rdkit.Chem.rdchem.Mol at 0x7f9afac35080>"
            ],
            "text/html": [
              "<?xml version='1.0' encoding='iso-8859-1'?>\n",
              "<svg version='1.1' baseProfile='full'\n",
              "              xmlns='http://www.w3.org/2000/svg'\n",
              "                      xmlns:rdkit='http://www.rdkit.org/xml'\n",
              "                      xmlns:xlink='http://www.w3.org/1999/xlink'\n",
              "                  xml:space='preserve'\n",
              "width='450px' height='150px' viewBox='0 0 450 150'>\n",
              "<!-- END OF HEADER -->\n",
              "<rect style='opacity:1.0;fill:#FFFFFF;stroke:none' width='450.0' height='150.0' x='0.0' y='0.0'> </rect>\n",
              "<path class='bond-0 atom-0 atom-1' d='M 343.1,75.0 L 264.4,75.0' style='fill:none;fill-rule:evenodd;stroke:#000000;stroke-width:2.0px;stroke-linecap:butt;stroke-linejoin:miter;stroke-opacity:1' />\n",
              "<path class='bond-1 atom-1 atom-2' d='M 264.4,75.0 L 225.0,143.2' style='fill:none;fill-rule:evenodd;stroke:#000000;stroke-width:2.0px;stroke-linecap:butt;stroke-linejoin:miter;stroke-opacity:1' />\n",
              "<path class='bond-1 atom-1 atom-2' d='M 244.8,77.4 L 217.3,125.1' style='fill:none;fill-rule:evenodd;stroke:#000000;stroke-width:2.0px;stroke-linecap:butt;stroke-linejoin:miter;stroke-opacity:1' />\n",
              "<path class='bond-2 atom-2 atom-3' d='M 225.0,143.2 L 146.3,143.2' style='fill:none;fill-rule:evenodd;stroke:#000000;stroke-width:2.0px;stroke-linecap:butt;stroke-linejoin:miter;stroke-opacity:1' />\n",
              "<path class='bond-3 atom-3 atom-4' d='M 146.3,143.2 L 106.9,75.0' style='fill:none;fill-rule:evenodd;stroke:#000000;stroke-width:2.0px;stroke-linecap:butt;stroke-linejoin:miter;stroke-opacity:1' />\n",
              "<path class='bond-3 atom-3 atom-4' d='M 154.0,125.1 L 126.4,77.4' style='fill:none;fill-rule:evenodd;stroke:#000000;stroke-width:2.0px;stroke-linecap:butt;stroke-linejoin:miter;stroke-opacity:1' />\n",
              "<path class='bond-4 atom-4 atom-5' d='M 106.9,75.0 L 146.3,6.8' style='fill:none;fill-rule:evenodd;stroke:#000000;stroke-width:2.0px;stroke-linecap:butt;stroke-linejoin:miter;stroke-opacity:1' />\n",
              "<path class='bond-5 atom-5 atom-6' d='M 146.3,6.8 L 225.0,6.8' style='fill:none;fill-rule:evenodd;stroke:#000000;stroke-width:2.0px;stroke-linecap:butt;stroke-linejoin:miter;stroke-opacity:1' />\n",
              "<path class='bond-5 atom-5 atom-6' d='M 158.1,22.6 L 213.2,22.6' style='fill:none;fill-rule:evenodd;stroke:#000000;stroke-width:2.0px;stroke-linecap:butt;stroke-linejoin:miter;stroke-opacity:1' />\n",
              "<path class='bond-6 atom-6 atom-1' d='M 225.0,6.8 L 264.4,75.0' style='fill:none;fill-rule:evenodd;stroke:#000000;stroke-width:2.0px;stroke-linecap:butt;stroke-linejoin:miter;stroke-opacity:1' />\n",
              "</svg>\n"
            ],
            "image/svg+xml": "<?xml version='1.0' encoding='iso-8859-1'?>\n<svg version='1.1' baseProfile='full'\n              xmlns='http://www.w3.org/2000/svg'\n                      xmlns:rdkit='http://www.rdkit.org/xml'\n                      xmlns:xlink='http://www.w3.org/1999/xlink'\n                  xml:space='preserve'\nwidth='450px' height='150px' viewBox='0 0 450 150'>\n<!-- END OF HEADER -->\n<rect style='opacity:1.0;fill:#FFFFFF;stroke:none' width='450.0' height='150.0' x='0.0' y='0.0'> </rect>\n<path class='bond-0 atom-0 atom-1' d='M 343.1,75.0 L 264.4,75.0' style='fill:none;fill-rule:evenodd;stroke:#000000;stroke-width:2.0px;stroke-linecap:butt;stroke-linejoin:miter;stroke-opacity:1' />\n<path class='bond-1 atom-1 atom-2' d='M 264.4,75.0 L 225.0,143.2' style='fill:none;fill-rule:evenodd;stroke:#000000;stroke-width:2.0px;stroke-linecap:butt;stroke-linejoin:miter;stroke-opacity:1' />\n<path class='bond-1 atom-1 atom-2' d='M 244.8,77.4 L 217.3,125.1' style='fill:none;fill-rule:evenodd;stroke:#000000;stroke-width:2.0px;stroke-linecap:butt;stroke-linejoin:miter;stroke-opacity:1' />\n<path class='bond-2 atom-2 atom-3' d='M 225.0,143.2 L 146.3,143.2' style='fill:none;fill-rule:evenodd;stroke:#000000;stroke-width:2.0px;stroke-linecap:butt;stroke-linejoin:miter;stroke-opacity:1' />\n<path class='bond-3 atom-3 atom-4' d='M 146.3,143.2 L 106.9,75.0' style='fill:none;fill-rule:evenodd;stroke:#000000;stroke-width:2.0px;stroke-linecap:butt;stroke-linejoin:miter;stroke-opacity:1' />\n<path class='bond-3 atom-3 atom-4' d='M 154.0,125.1 L 126.4,77.4' style='fill:none;fill-rule:evenodd;stroke:#000000;stroke-width:2.0px;stroke-linecap:butt;stroke-linejoin:miter;stroke-opacity:1' />\n<path class='bond-4 atom-4 atom-5' d='M 106.9,75.0 L 146.3,6.8' style='fill:none;fill-rule:evenodd;stroke:#000000;stroke-width:2.0px;stroke-linecap:butt;stroke-linejoin:miter;stroke-opacity:1' />\n<path class='bond-5 atom-5 atom-6' d='M 146.3,6.8 L 225.0,6.8' style='fill:none;fill-rule:evenodd;stroke:#000000;stroke-width:2.0px;stroke-linecap:butt;stroke-linejoin:miter;stroke-opacity:1' />\n<path class='bond-5 atom-5 atom-6' d='M 158.1,22.6 L 213.2,22.6' style='fill:none;fill-rule:evenodd;stroke:#000000;stroke-width:2.0px;stroke-linecap:butt;stroke-linejoin:miter;stroke-opacity:1' />\n<path class='bond-6 atom-6 atom-1' d='M 225.0,6.8 L 264.4,75.0' style='fill:none;fill-rule:evenodd;stroke:#000000;stroke-width:2.0px;stroke-linecap:butt;stroke-linejoin:miter;stroke-opacity:1' />\n</svg>\n",
            "image/png": "[encoded data removed]"
          },
          "metadata": {},
          "execution_count": 5
        }
      ]
    },
    {
      "cell_type": "code",
      "source": [
        "Chem.MolToMolFile(m, \"data.mol\")"
      ],
      "metadata": {
        "id": "MNP4CDr5p_WS"
      },
      "execution_count": 6,
      "outputs": []
    },
    {
      "cell_type": "code",
      "source": [
        "Chem.MolToPDBFile(m, \"data.pdb\")"
      ],
      "metadata": {
        "id": "SNa9vzQ6qW7O"
      },
      "execution_count": 7,
      "outputs": []
    },
    {
      "cell_type": "code",
      "source": [
        "# mol-type 변수가 가지고 있는 함수와 속성을 확인 \n",
        "dir(m)"
      ],
      "metadata": {
        "colab": {
          "base_uri": "https://localhost:8080/",
          "height": 0
        },
        "id": "pwi4wYu_su7A",
        "outputId": "2d323f5a-4aad-44da-b984-0d60bfd5ed54"
      },
      "execution_count": 8,
      "outputs": [
        {
          "output_type": "execute_result",
          "data": {
            "text/plain": [
              "['AddConformer',\n",
              " 'ClearComputedProps',\n",
              " 'ClearProp',\n",
              " 'Compute2DCoords',\n",
              " 'ComputeGasteigerCharges',\n",
              " 'Debug',\n",
              " 'GetAromaticAtoms',\n",
              " 'GetAtomWithIdx',\n",
              " 'GetAtoms',\n",
              " 'GetAtomsMatchingQuery',\n",
              " 'GetBondBetweenAtoms',\n",
              " 'GetBondWithIdx',\n",
              " 'GetBonds',\n",
              " 'GetBoolProp',\n",
              " 'GetConformer',\n",
              " 'GetConformers',\n",
              " 'GetDoubleProp',\n",
              " 'GetIntProp',\n",
              " 'GetNumAtoms',\n",
              " 'GetNumBonds',\n",
              " 'GetNumConformers',\n",
              " 'GetNumHeavyAtoms',\n",
              " 'GetProp',\n",
              " 'GetPropNames',\n",
              " 'GetPropsAsDict',\n",
              " 'GetRingInfo',\n",
              " 'GetStereoGroups',\n",
              " 'GetSubstructMatch',\n",
              " 'GetSubstructMatches',\n",
              " 'GetUnsignedProp',\n",
              " 'HasProp',\n",
              " 'HasSubstructMatch',\n",
              " 'NeedsUpdatePropertyCache',\n",
              " 'RemoveAllConformers',\n",
              " 'RemoveConformer',\n",
              " 'SetBoolProp',\n",
              " 'SetDoubleProp',\n",
              " 'SetIntProp',\n",
              " 'SetProp',\n",
              " 'SetUnsignedProp',\n",
              " 'ToBinary',\n",
              " 'UpdatePropertyCache',\n",
              " '__DebugMol',\n",
              " '__GetSubstructMatch',\n",
              " '__GetSubstructMatches',\n",
              " '__class__',\n",
              " '__copy__',\n",
              " '__deepcopy__',\n",
              " '__delattr__',\n",
              " '__dict__',\n",
              " '__dir__',\n",
              " '__doc__',\n",
              " '__eq__',\n",
              " '__format__',\n",
              " '__ge__',\n",
              " '__getattribute__',\n",
              " '__getinitargs__',\n",
              " '__gt__',\n",
              " '__hash__',\n",
              " '__init__',\n",
              " '__init_subclass__',\n",
              " '__instance_size__',\n",
              " '__le__',\n",
              " '__lt__',\n",
              " '__module__',\n",
              " '__ne__',\n",
              " '__new__',\n",
              " '__reduce__',\n",
              " '__reduce_ex__',\n",
              " '__repr__',\n",
              " '__safe_for_unpickling__',\n",
              " '__setattr__',\n",
              " '__sizeof__',\n",
              " '__str__',\n",
              " '__subclasshook__',\n",
              " '__weakref__',\n",
              " '_repr_html_',\n",
              " '_repr_png_',\n",
              " '_repr_svg_']"
            ]
          },
          "metadata": {},
          "execution_count": 8
        }
      ]
    },
    {
      "cell_type": "code",
      "source": [
        "m.SetProp(\"_Name\", \"My_mol\")"
      ],
      "metadata": {
        "id": "4VKbbA0jtGt2"
      },
      "execution_count": 9,
      "outputs": []
    },
    {
      "cell_type": "code",
      "source": [
        "Chem.MolToMolFile(m, \"data.mol\")"
      ],
      "metadata": {
        "id": "N22REgcutXN9"
      },
      "execution_count": 10,
      "outputs": []
    },
    {
      "cell_type": "markdown",
      "source": [
        "# 수소 분자 붙이기 : Chem.AddHs\n",
        "- 수소 결합은 분자 내에서 일어나는 원자간의 화학결합이 아니라 분자 사이에서 일어나는 인력에 의한 결합\n",
        "- 주의 : AddHs를 사용하면 새로운 분자가 만들어짐"
      ],
      "metadata": {
        "id": "BARLmQIsvW9H"
      }
    },
    {
      "cell_type": "code",
      "source": [
        "print(Chem.MolToMolBlock(m))"
      ],
      "metadata": {
        "colab": {
          "base_uri": "https://localhost:8080/",
          "height": 0
        },
        "id": "QV13hBwswa0t",
        "outputId": "de936d21-cb99-457a-d6e3-eaa6ed12a470"
      },
      "execution_count": 17,
      "outputs": [
        {
          "output_type": "stream",
          "name": "stdout",
          "text": [
            "My_mol\n",
            "     RDKit          2D\n",
            "\n",
            "  7  7  0  0  0  0  0  0  0  0999 V2000\n",
            "    3.0000    0.0000    0.0000 C   0  0  0  0  0  0  0  0  0  0  0  0\n",
            "    1.5000    0.0000    0.0000 C   0  0  0  0  0  0  0  0  0  0  0  0\n",
            "    0.7500   -1.2990    0.0000 C   0  0  0  0  0  0  0  0  0  0  0  0\n",
            "   -0.7500   -1.2990    0.0000 C   0  0  0  0  0  0  0  0  0  0  0  0\n",
            "   -1.5000    0.0000    0.0000 C   0  0  0  0  0  0  0  0  0  0  0  0\n",
            "   -0.7500    1.2990    0.0000 C   0  0  0  0  0  0  0  0  0  0  0  0\n",
            "    0.7500    1.2990    0.0000 C   0  0  0  0  0  0  0  0  0  0  0  0\n",
            "  1  2  1  0\n",
            "  2  3  2  0\n",
            "  3  4  1  0\n",
            "  4  5  2  0\n",
            "  5  6  1  0\n",
            "  6  7  2  0\n",
            "  7  2  1  0\n",
            "M  END\n",
            "\n"
          ]
        }
      ]
    },
    {
      "cell_type": "code",
      "source": [
        "m2 = Chem.AddHs(m)\n",
        "m2"
      ],
      "metadata": {
        "colab": {
          "base_uri": "https://localhost:8080/",
          "height": 171
        },
        "id": "DJSyacyftjIH",
        "outputId": "cfd6016f-4643-4954-df63-1380774373bb"
      },
      "execution_count": 15,
      "outputs": [
        {
          "output_type": "execute_result",
          "data": {
            "text/plain": [
              "<rdkit.Chem.rdchem.Mol at 0x7f9afa57fe90>"
            ],
            "text/html": [
              "<?xml version='1.0' encoding='iso-8859-1'?>\n",
              "<svg version='1.1' baseProfile='full'\n",
              "              xmlns='http://www.w3.org/2000/svg'\n",
              "                      xmlns:rdkit='http://www.rdkit.org/xml'\n",
              "                      xmlns:xlink='http://www.w3.org/1999/xlink'\n",
              "                  xml:space='preserve'\n",
              "width='450px' height='150px' viewBox='0 0 450 150'>\n",
              "<!-- END OF HEADER -->\n",
              "<rect style='opacity:1.0;fill:#FFFFFF;stroke:none' width='450.0' height='150.0' x='0.0' y='0.0'> </rect>\n",
              "<path class='bond-0 atom-0 atom-1' d='M 279.6,75.0 L 243.2,75.0' style='fill:none;fill-rule:evenodd;stroke:#000000;stroke-width:2.0px;stroke-linecap:butt;stroke-linejoin:miter;stroke-opacity:1' />\n",
              "<path class='bond-1 atom-1 atom-2' d='M 243.2,75.0 L 225.0,106.5' style='fill:none;fill-rule:evenodd;stroke:#000000;stroke-width:2.0px;stroke-linecap:butt;stroke-linejoin:miter;stroke-opacity:1' />\n",
              "<path class='bond-1 atom-1 atom-2' d='M 234.2,76.1 L 221.4,98.1' style='fill:none;fill-rule:evenodd;stroke:#000000;stroke-width:2.0px;stroke-linecap:butt;stroke-linejoin:miter;stroke-opacity:1' />\n",
              "<path class='bond-2 atom-2 atom-3' d='M 225.0,106.5 L 188.6,106.5' style='fill:none;fill-rule:evenodd;stroke:#000000;stroke-width:2.0px;stroke-linecap:butt;stroke-linejoin:miter;stroke-opacity:1' />\n",
              "<path class='bond-3 atom-3 atom-4' d='M 188.6,106.5 L 170.4,75.0' style='fill:none;fill-rule:evenodd;stroke:#000000;stroke-width:2.0px;stroke-linecap:butt;stroke-linejoin:miter;stroke-opacity:1' />\n",
              "<path class='bond-3 atom-3 atom-4' d='M 192.2,98.1 L 179.4,76.1' style='fill:none;fill-rule:evenodd;stroke:#000000;stroke-width:2.0px;stroke-linecap:butt;stroke-linejoin:miter;stroke-opacity:1' />\n",
              "<path class='bond-4 atom-4 atom-5' d='M 170.4,75.0 L 188.6,43.5' style='fill:none;fill-rule:evenodd;stroke:#000000;stroke-width:2.0px;stroke-linecap:butt;stroke-linejoin:miter;stroke-opacity:1' />\n",
              "<path class='bond-5 atom-5 atom-6' d='M 188.6,43.5 L 225.0,43.5' style='fill:none;fill-rule:evenodd;stroke:#000000;stroke-width:2.0px;stroke-linecap:butt;stroke-linejoin:miter;stroke-opacity:1' />\n",
              "<path class='bond-5 atom-5 atom-6' d='M 194.1,50.8 L 219.5,50.8' style='fill:none;fill-rule:evenodd;stroke:#000000;stroke-width:2.0px;stroke-linecap:butt;stroke-linejoin:miter;stroke-opacity:1' />\n",
              "<path class='bond-6 atom-6 atom-1' d='M 225.0,43.5 L 243.2,75.0' style='fill:none;fill-rule:evenodd;stroke:#000000;stroke-width:2.0px;stroke-linecap:butt;stroke-linejoin:miter;stroke-opacity:1' />\n",
              "<path class='bond-7 atom-0 atom-7' d='M 279.6,75.0 L 310.7,75.0' style='fill:none;fill-rule:evenodd;stroke:#000000;stroke-width:2.0px;stroke-linecap:butt;stroke-linejoin:miter;stroke-opacity:1' />\n",
              "<path class='bond-8 atom-0 atom-8' d='M 279.6,75.0 L 279.6,105.0' style='fill:none;fill-rule:evenodd;stroke:#000000;stroke-width:2.0px;stroke-linecap:butt;stroke-linejoin:miter;stroke-opacity:1' />\n",
              "<path class='bond-9 atom-0 atom-9' d='M 279.6,75.0 L 279.6,45.0' style='fill:none;fill-rule:evenodd;stroke:#000000;stroke-width:2.0px;stroke-linecap:butt;stroke-linejoin:miter;stroke-opacity:1' />\n",
              "<path class='bond-10 atom-2 atom-10' d='M 225.0,106.5 L 239.5,131.7' style='fill:none;fill-rule:evenodd;stroke:#000000;stroke-width:2.0px;stroke-linecap:butt;stroke-linejoin:miter;stroke-opacity:1' />\n",
              "<path class='bond-11 atom-3 atom-11' d='M 188.6,106.5 L 174.1,131.7' style='fill:none;fill-rule:evenodd;stroke:#000000;stroke-width:2.0px;stroke-linecap:butt;stroke-linejoin:miter;stroke-opacity:1' />\n",
              "<path class='bond-12 atom-4 atom-12' d='M 170.4,75.0 L 139.3,75.0' style='fill:none;fill-rule:evenodd;stroke:#000000;stroke-width:2.0px;stroke-linecap:butt;stroke-linejoin:miter;stroke-opacity:1' />\n",
              "<path class='bond-13 atom-5 atom-13' d='M 188.6,43.5 L 174.1,18.3' style='fill:none;fill-rule:evenodd;stroke:#000000;stroke-width:2.0px;stroke-linecap:butt;stroke-linejoin:miter;stroke-opacity:1' />\n",
              "<path class='bond-14 atom-6 atom-14' d='M 225.0,43.5 L 239.5,18.3' style='fill:none;fill-rule:evenodd;stroke:#000000;stroke-width:2.0px;stroke-linecap:butt;stroke-linejoin:miter;stroke-opacity:1' />\n",
              "<path class='atom-7' d='M 311.9 69.8\n",
              "L 313.3 69.8\n",
              "L 313.3 74.2\n",
              "L 318.6 74.2\n",
              "L 318.6 69.8\n",
              "L 320.0 69.8\n",
              "L 320.0 80.2\n",
              "L 318.6 80.2\n",
              "L 318.6 75.4\n",
              "L 313.3 75.4\n",
              "L 313.3 80.2\n",
              "L 311.9 80.2\n",
              "L 311.9 69.8\n",
              "' fill='#000000'/>\n",
              "<path class='atom-8' d='M 275.6 106.2\n",
              "L 277.0 106.2\n",
              "L 277.0 110.6\n",
              "L 282.2 110.6\n",
              "L 282.2 106.2\n",
              "L 283.6 106.2\n",
              "L 283.6 116.5\n",
              "L 282.2 116.5\n",
              "L 282.2 111.8\n",
              "L 277.0 111.8\n",
              "L 277.0 116.5\n",
              "L 275.6 116.5\n",
              "L 275.6 106.2\n",
              "' fill='#000000'/>\n",
              "<path class='atom-9' d='M 275.6 33.5\n",
              "L 277.0 33.5\n",
              "L 277.0 37.8\n",
              "L 282.2 37.8\n",
              "L 282.2 33.5\n",
              "L 283.6 33.5\n",
              "L 283.6 43.8\n",
              "L 282.2 43.8\n",
              "L 282.2 39.0\n",
              "L 277.0 39.0\n",
              "L 277.0 43.8\n",
              "L 275.6 43.8\n",
              "L 275.6 33.5\n",
              "' fill='#000000'/>\n",
              "<path class='atom-10' d='M 239.2 132.9\n",
              "L 240.6 132.9\n",
              "L 240.6 137.3\n",
              "L 245.8 137.3\n",
              "L 245.8 132.9\n",
              "L 247.2 132.9\n",
              "L 247.2 143.2\n",
              "L 245.8 143.2\n",
              "L 245.8 138.4\n",
              "L 240.6 138.4\n",
              "L 240.6 143.2\n",
              "L 239.2 143.2\n",
              "L 239.2 132.9\n",
              "' fill='#000000'/>\n",
              "<path class='atom-11' d='M 166.4 132.9\n",
              "L 167.8 132.9\n",
              "L 167.8 137.3\n",
              "L 173.0 137.3\n",
              "L 173.0 132.9\n",
              "L 174.4 132.9\n",
              "L 174.4 143.2\n",
              "L 173.0 143.2\n",
              "L 173.0 138.4\n",
              "L 167.8 138.4\n",
              "L 167.8 143.2\n",
              "L 166.4 143.2\n",
              "L 166.4 132.9\n",
              "' fill='#000000'/>\n",
              "<path class='atom-12' d='M 130.0 69.8\n",
              "L 131.4 69.8\n",
              "L 131.4 74.2\n",
              "L 136.7 74.2\n",
              "L 136.7 69.8\n",
              "L 138.1 69.8\n",
              "L 138.1 80.2\n",
              "L 136.7 80.2\n",
              "L 136.7 75.4\n",
              "L 131.4 75.4\n",
              "L 131.4 80.2\n",
              "L 130.0 80.2\n",
              "L 130.0 69.8\n",
              "' fill='#000000'/>\n",
              "<path class='atom-13' d='M 166.4 6.8\n",
              "L 167.8 6.8\n",
              "L 167.8 11.2\n",
              "L 173.0 11.2\n",
              "L 173.0 6.8\n",
              "L 174.4 6.8\n",
              "L 174.4 17.1\n",
              "L 173.0 17.1\n",
              "L 173.0 12.4\n",
              "L 167.8 12.4\n",
              "L 167.8 17.1\n",
              "L 166.4 17.1\n",
              "L 166.4 6.8\n",
              "' fill='#000000'/>\n",
              "<path class='atom-14' d='M 239.2 6.8\n",
              "L 240.6 6.8\n",
              "L 240.6 11.2\n",
              "L 245.8 11.2\n",
              "L 245.8 6.8\n",
              "L 247.2 6.8\n",
              "L 247.2 17.1\n",
              "L 245.8 17.1\n",
              "L 245.8 12.4\n",
              "L 240.6 12.4\n",
              "L 240.6 17.1\n",
              "L 239.2 17.1\n",
              "L 239.2 6.8\n",
              "' fill='#000000'/>\n",
              "</svg>\n"
            ],
            "image/svg+xml": "<?xml version='1.0' encoding='iso-8859-1'?>\n<svg version='1.1' baseProfile='full'\n              xmlns='http://www.w3.org/2000/svg'\n                      xmlns:rdkit='http://www.rdkit.org/xml'\n                      xmlns:xlink='http://www.w3.org/1999/xlink'\n                  xml:space='preserve'\nwidth='450px' height='150px' viewBox='0 0 450 150'>\n<!-- END OF HEADER -->\n<rect style='opacity:1.0;fill:#FFFFFF;stroke:none' width='450.0' height='150.0' x='0.0' y='0.0'> </rect>\n<path class='bond-0 atom-0 atom-1' d='M 279.6,75.0 L 243.2,75.0' style='fill:none;fill-rule:evenodd;stroke:#000000;stroke-width:2.0px;stroke-linecap:butt;stroke-linejoin:miter;stroke-opacity:1' />\n<path class='bond-1 atom-1 atom-2' d='M 243.2,75.0 L 225.0,106.5' style='fill:none;fill-rule:evenodd;stroke:#000000;stroke-width:2.0px;stroke-linecap:butt;stroke-linejoin:miter;stroke-opacity:1' />\n<path class='bond-1 atom-1 atom-2' d='M 234.2,76.1 L 221.4,98.1' style='fill:none;fill-rule:evenodd;stroke:#000000;stroke-width:2.0px;stroke-linecap:butt;stroke-linejoin:miter;stroke-opacity:1' />\n<path class='bond-2 atom-2 atom-3' d='M 225.0,106.5 L 188.6,106.5' style='fill:none;fill-rule:evenodd;stroke:#000000;stroke-width:2.0px;stroke-linecap:butt;stroke-linejoin:miter;stroke-opacity:1' />\n<path class='bond-3 atom-3 atom-4' d='M 188.6,106.5 L 170.4,75.0' style='fill:none;fill-rule:evenodd;stroke:#000000;stroke-width:2.0px;stroke-linecap:butt;stroke-linejoin:miter;stroke-opacity:1' />\n<path class='bond-3 atom-3 atom-4' d='M 192.2,98.1 L 179.4,76.1' style='fill:none;fill-rule:evenodd;stroke:#000000;stroke-width:2.0px;stroke-linecap:butt;stroke-linejoin:miter;stroke-opacity:1' />\n<path class='bond-4 atom-4 atom-5' d='M 170.4,75.0 L 188.6,43.5' style='fill:none;fill-rule:evenodd;stroke:#000000;stroke-width:2.0px;stroke-linecap:butt;stroke-linejoin:miter;stroke-opacity:1' />\n<path class='bond-5 atom-5 atom-6' d='M 188.6,43.5 L 225.0,43.5' style='fill:none;fill-rule:evenodd;stroke:#000000;stroke-width:2.0px;stroke-linecap:butt;stroke-linejoin:miter;stroke-opacity:1' />\n<path class='bond-5 atom-5 atom-6' d='M 194.1,50.8 L 219.5,50.8' style='fill:none;fill-rule:evenodd;stroke:#000000;stroke-width:2.0px;stroke-linecap:butt;stroke-linejoin:miter;stroke-opacity:1' />\n<path class='bond-6 atom-6 atom-1' d='M 225.0,43.5 L 243.2,75.0' style='fill:none;fill-rule:evenodd;stroke:#000000;stroke-width:2.0px;stroke-linecap:butt;stroke-linejoin:miter;stroke-opacity:1' />\n<path class='bond-7 atom-0 atom-7' d='M 279.6,75.0 L 310.7,75.0' style='fill:none;fill-rule:evenodd;stroke:#000000;stroke-width:2.0px;stroke-linecap:butt;stroke-linejoin:miter;stroke-opacity:1' />\n<path class='bond-8 atom-0 atom-8' d='M 279.6,75.0 L 279.6,105.0' style='fill:none;fill-rule:evenodd;stroke:#000000;stroke-width:2.0px;stroke-linecap:butt;stroke-linejoin:miter;stroke-opacity:1' />\n<path class='bond-9 atom-0 atom-9' d='M 279.6,75.0 L 279.6,45.0' style='fill:none;fill-rule:evenodd;stroke:#000000;stroke-width:2.0px;stroke-linecap:butt;stroke-linejoin:miter;stroke-opacity:1' />\n<path class='bond-10 atom-2 atom-10' d='M 225.0,106.5 L 239.5,131.7' style='fill:none;fill-rule:evenodd;stroke:#000000;stroke-width:2.0px;stroke-linecap:butt;stroke-linejoin:miter;stroke-opacity:1' />\n<path class='bond-11 atom-3 atom-11' d='M 188.6,106.5 L 174.1,131.7' style='fill:none;fill-rule:evenodd;stroke:#000000;stroke-width:2.0px;stroke-linecap:butt;stroke-linejoin:miter;stroke-opacity:1' />\n<path class='bond-12 atom-4 atom-12' d='M 170.4,75.0 L 139.3,75.0' style='fill:none;fill-rule:evenodd;stroke:#000000;stroke-width:2.0px;stroke-linecap:butt;stroke-linejoin:miter;stroke-opacity:1' />\n<path class='bond-13 atom-5 atom-13' d='M 188.6,43.5 L 174.1,18.3' style='fill:none;fill-rule:evenodd;stroke:#000000;stroke-width:2.0px;stroke-linecap:butt;stroke-linejoin:miter;stroke-opacity:1' />\n<path class='bond-14 atom-6 atom-14' d='M 225.0,43.5 L 239.5,18.3' style='fill:none;fill-rule:evenodd;stroke:#000000;stroke-width:2.0px;stroke-linecap:butt;stroke-linejoin:miter;stroke-opacity:1' />\n<path class='atom-7' d='M 311.9 69.8\nL 313.3 69.8\nL 313.3 74.2\nL 318.6 74.2\nL 318.6 69.8\nL 320.0 69.8\nL 320.0 80.2\nL 318.6 80.2\nL 318.6 75.4\nL 313.3 75.4\nL 313.3 80.2\nL 311.9 80.2\nL 311.9 69.8\n' fill='#000000'/>\n<path class='atom-8' d='M 275.6 106.2\nL 277.0 106.2\nL 277.0 110.6\nL 282.2 110.6\nL 282.2 106.2\nL 283.6 106.2\nL 283.6 116.5\nL 282.2 116.5\nL 282.2 111.8\nL 277.0 111.8\nL 277.0 116.5\nL 275.6 116.5\nL 275.6 106.2\n' fill='#000000'/>\n<path class='atom-9' d='M 275.6 33.5\nL 277.0 33.5\nL 277.0 37.8\nL 282.2 37.8\nL 282.2 33.5\nL 283.6 33.5\nL 283.6 43.8\nL 282.2 43.8\nL 282.2 39.0\nL 277.0 39.0\nL 277.0 43.8\nL 275.6 43.8\nL 275.6 33.5\n' fill='#000000'/>\n<path class='atom-10' d='M 239.2 132.9\nL 240.6 132.9\nL 240.6 137.3\nL 245.8 137.3\nL 245.8 132.9\nL 247.2 132.9\nL 247.2 143.2\nL 245.8 143.2\nL 245.8 138.4\nL 240.6 138.4\nL 240.6 143.2\nL 239.2 143.2\nL 239.2 132.9\n' fill='#000000'/>\n<path class='atom-11' d='M 166.4 132.9\nL 167.8 132.9\nL 167.8 137.3\nL 173.0 137.3\nL 173.0 132.9\nL 174.4 132.9\nL 174.4 143.2\nL 173.0 143.2\nL 173.0 138.4\nL 167.8 138.4\nL 167.8 143.2\nL 166.4 143.2\nL 166.4 132.9\n' fill='#000000'/>\n<path class='atom-12' d='M 130.0 69.8\nL 131.4 69.8\nL 131.4 74.2\nL 136.7 74.2\nL 136.7 69.8\nL 138.1 69.8\nL 138.1 80.2\nL 136.7 80.2\nL 136.7 75.4\nL 131.4 75.4\nL 131.4 80.2\nL 130.0 80.2\nL 130.0 69.8\n' fill='#000000'/>\n<path class='atom-13' d='M 166.4 6.8\nL 167.8 6.8\nL 167.8 11.2\nL 173.0 11.2\nL 173.0 6.8\nL 174.4 6.8\nL 174.4 17.1\nL 173.0 17.1\nL 173.0 12.4\nL 167.8 12.4\nL 167.8 17.1\nL 166.4 17.1\nL 166.4 6.8\n' fill='#000000'/>\n<path class='atom-14' d='M 239.2 6.8\nL 240.6 6.8\nL 240.6 11.2\nL 245.8 11.2\nL 245.8 6.8\nL 247.2 6.8\nL 247.2 17.1\nL 245.8 17.1\nL 245.8 12.4\nL 240.6 12.4\nL 240.6 17.1\nL 239.2 17.1\nL 239.2 6.8\n' fill='#000000'/>\n</svg>\n",
            "image/png": "[encoded data removed]"
          },
          "metadata": {},
          "execution_count": 15
        }
      ]
    },
    {
      "cell_type": "code",
      "source": [
        "print(Chem.MolToMolBlock(m2))"
      ],
      "metadata": {
        "colab": {
          "base_uri": "https://localhost:8080/",
          "height": 0
        },
        "id": "waYKM0jUwONF",
        "outputId": "f2cb05c7-65cb-46c3-a720-335b8fe7528f"
      },
      "execution_count": 16,
      "outputs": [
        {
          "output_type": "stream",
          "name": "stdout",
          "text": [
            "My_mol\n",
            "     RDKit          2D\n",
            "\n",
            " 15 15  0  0  0  0  0  0  0  0999 V2000\n",
            "    3.0000    0.0000    0.0000 C   0  0  0  0  0  0  0  0  0  0  0  0\n",
            "    1.5000    0.0000    0.0000 C   0  0  0  0  0  0  0  0  0  0  0  0\n",
            "    0.7500   -1.2990    0.0000 C   0  0  0  0  0  0  0  0  0  0  0  0\n",
            "   -0.7500   -1.2990    0.0000 C   0  0  0  0  0  0  0  0  0  0  0  0\n",
            "   -1.5000    0.0000    0.0000 C   0  0  0  0  0  0  0  0  0  0  0  0\n",
            "   -0.7500    1.2990    0.0000 C   0  0  0  0  0  0  0  0  0  0  0  0\n",
            "    0.7500    1.2990    0.0000 C   0  0  0  0  0  0  0  0  0  0  0  0\n",
            "    4.5000    0.0000    0.0000 H   0  0  0  0  0  0  0  0  0  0  0  0\n",
            "    3.0000   -1.5000    0.0000 H   0  0  0  0  0  0  0  0  0  0  0  0\n",
            "    3.0000    1.5000    0.0000 H   0  0  0  0  0  0  0  0  0  0  0  0\n",
            "    1.5000   -2.5981    0.0000 H   0  0  0  0  0  0  0  0  0  0  0  0\n",
            "   -1.5000   -2.5981    0.0000 H   0  0  0  0  0  0  0  0  0  0  0  0\n",
            "   -3.0000    0.0000    0.0000 H   0  0  0  0  0  0  0  0  0  0  0  0\n",
            "   -1.5000    2.5981    0.0000 H   0  0  0  0  0  0  0  0  0  0  0  0\n",
            "    1.5000    2.5981    0.0000 H   0  0  0  0  0  0  0  0  0  0  0  0\n",
            "  1  2  1  0\n",
            "  2  3  2  0\n",
            "  3  4  1  0\n",
            "  4  5  2  0\n",
            "  5  6  1  0\n",
            "  6  7  2  0\n",
            "  7  2  1  0\n",
            "  1  8  1  0\n",
            "  1  9  1  0\n",
            "  1 10  1  0\n",
            "  3 11  1  0\n",
            "  4 12  1  0\n",
            "  5 13  1  0\n",
            "  6 14  1  0\n",
            "  7 15  1  0\n",
            "M  END\n",
            "\n"
          ]
        }
      ]
    },
    {
      "cell_type": "markdown",
      "source": [
        "# 분자의 3차원 구조 만들기\n",
        "- SMILES는 평면구조로 표현됨\n",
        "- 실제 분자는 3차원 crystal 구조임\n",
        "- 3차원 구조를 얻기위해서는 양자 계산과 전역 최적화 계산이 필요\n",
        "- AllChem.EmbedMolecule() 함수를 사용"
      ],
      "metadata": {
        "id": "KxGi7QMxwpQr"
      }
    },
    {
      "cell_type": "code",
      "source": [
        "# 리턴값 0은 성공했다는 의미임 \n",
        "AllChem.EmbedMolecule(m2)"
      ],
      "metadata": {
        "colab": {
          "base_uri": "https://localhost:8080/",
          "height": 0
        },
        "id": "FlWVT13kw8rV",
        "outputId": "90a813ba-b4d7-491c-a1a6-b396a2b62fb0"
      },
      "execution_count": 20,
      "outputs": [
        {
          "output_type": "execute_result",
          "data": {
            "text/plain": [
              "0"
            ]
          },
          "metadata": {},
          "execution_count": 20
        }
      ]
    },
    {
      "cell_type": "code",
      "source": [
        "m2"
      ],
      "metadata": {
        "colab": {
          "base_uri": "https://localhost:8080/",
          "height": 171
        },
        "id": "bekSM46_xXES",
        "outputId": "5e87b21a-3214-4acd-dc6d-bcf9effa5dd7"
      },
      "execution_count": 21,
      "outputs": [
        {
          "output_type": "execute_result",
          "data": {
            "text/plain": [
              "<rdkit.Chem.rdchem.Mol at 0x7f9afa57fe90>"
            ],
            "text/html": [
              "<?xml version='1.0' encoding='iso-8859-1'?>\n",
              "<svg version='1.1' baseProfile='full'\n",
              "              xmlns='http://www.w3.org/2000/svg'\n",
              "                      xmlns:rdkit='http://www.rdkit.org/xml'\n",
              "                      xmlns:xlink='http://www.w3.org/1999/xlink'\n",
              "                  xml:space='preserve'\n",
              "width='450px' height='150px' viewBox='0 0 450 150'>\n",
              "<!-- END OF HEADER -->\n",
              "<rect style='opacity:1.0;fill:#FFFFFF;stroke:none' width='450.0' height='150.0' x='0.0' y='0.0'> </rect>\n",
              "<path class='bond-0 atom-0 atom-1' d='M 294.7,68.1 L 252.6,72.0' style='fill:none;fill-rule:evenodd;stroke:#000000;stroke-width:2.0px;stroke-linecap:butt;stroke-linejoin:miter;stroke-opacity:1' />\n",
              "<path class='bond-1 atom-1 atom-2' d='M 252.6,72.0 L 234.4,106.6' style='fill:none;fill-rule:evenodd;stroke:#000000;stroke-width:2.0px;stroke-linecap:butt;stroke-linejoin:miter;stroke-opacity:1' />\n",
              "<path class='bond-1 atom-1 atom-2' d='M 245.4,74.8 L 232.6,99.0' style='fill:none;fill-rule:evenodd;stroke:#000000;stroke-width:2.0px;stroke-linecap:butt;stroke-linejoin:miter;stroke-opacity:1' />\n",
              "<path class='bond-2 atom-2 atom-3' d='M 234.4,106.6 L 195.3,110.1' style='fill:none;fill-rule:evenodd;stroke:#000000;stroke-width:2.0px;stroke-linecap:butt;stroke-linejoin:miter;stroke-opacity:1' />\n",
              "<path class='bond-3 atom-3 atom-4' d='M 195.3,110.1 L 172.4,78.7' style='fill:none;fill-rule:evenodd;stroke:#000000;stroke-width:2.0px;stroke-linecap:butt;stroke-linejoin:miter;stroke-opacity:1' />\n",
              "<path class='bond-3 atom-3 atom-4' d='M 196.0,102.4 L 179.9,80.4' style='fill:none;fill-rule:evenodd;stroke:#000000;stroke-width:2.0px;stroke-linecap:butt;stroke-linejoin:miter;stroke-opacity:1' />\n",
              "<path class='bond-4 atom-4 atom-5' d='M 172.4,78.7 L 190.3,44.0' style='fill:none;fill-rule:evenodd;stroke:#000000;stroke-width:2.0px;stroke-linecap:butt;stroke-linejoin:miter;stroke-opacity:1' />\n",
              "<path class='bond-5 atom-5 atom-6' d='M 190.3,44.0 L 229.5,40.6' style='fill:none;fill-rule:evenodd;stroke:#000000;stroke-width:2.0px;stroke-linecap:butt;stroke-linejoin:miter;stroke-opacity:1' />\n",
              "<path class='bond-5 atom-5 atom-6' d='M 196.6,48.6 L 224.0,46.2' style='fill:none;fill-rule:evenodd;stroke:#000000;stroke-width:2.0px;stroke-linecap:butt;stroke-linejoin:miter;stroke-opacity:1' />\n",
              "<path class='bond-6 atom-6 atom-1' d='M 229.5,40.6 L 252.6,72.0' style='fill:none;fill-rule:evenodd;stroke:#000000;stroke-width:2.0px;stroke-linecap:butt;stroke-linejoin:miter;stroke-opacity:1' />\n",
              "<path class='bond-7 atom-0 atom-7' d='M 294.7,68.1 L 301.1,49.2' style='fill:none;fill-rule:evenodd;stroke:#000000;stroke-width:2.0px;stroke-linecap:butt;stroke-linejoin:miter;stroke-opacity:1' />\n",
              "<path class='bond-8 atom-0 atom-8' d='M 294.7,68.1 L 304.4,85.3' style='fill:none;fill-rule:evenodd;stroke:#000000;stroke-width:2.0px;stroke-linecap:butt;stroke-linejoin:miter;stroke-opacity:1' />\n",
              "<path class='bond-9 atom-0 atom-9' d='M 294.7,68.1 L 300.3,67.0' style='fill:none;fill-rule:evenodd;stroke:#000000;stroke-width:2.0px;stroke-linecap:butt;stroke-linejoin:miter;stroke-opacity:1' />\n",
              "<path class='bond-10 atom-2 atom-10' d='M 234.4,106.6 L 247.2,124.5' style='fill:none;fill-rule:evenodd;stroke:#000000;stroke-width:2.0px;stroke-linecap:butt;stroke-linejoin:miter;stroke-opacity:1' />\n",
              "<path class='bond-11 atom-3 atom-11' d='M 195.3,110.1 L 184.7,130.0' style='fill:none;fill-rule:evenodd;stroke:#000000;stroke-width:2.0px;stroke-linecap:butt;stroke-linejoin:miter;stroke-opacity:1' />\n",
              "<path class='bond-12 atom-4 atom-12' d='M 172.4,78.7 L 147.5,80.5' style='fill:none;fill-rule:evenodd;stroke:#000000;stroke-width:2.0px;stroke-linecap:butt;stroke-linejoin:miter;stroke-opacity:1' />\n",
              "<path class='bond-13 atom-5 atom-13' d='M 190.3,44.0 L 177.5,26.0' style='fill:none;fill-rule:evenodd;stroke:#000000;stroke-width:2.0px;stroke-linecap:butt;stroke-linejoin:miter;stroke-opacity:1' />\n",
              "<path class='bond-14 atom-6 atom-14' d='M 229.5,40.6 L 240.0,20.0' style='fill:none;fill-rule:evenodd;stroke:#000000;stroke-width:2.0px;stroke-linecap:butt;stroke-linejoin:miter;stroke-opacity:1' />\n",
              "<path class='atom-7' d='M 298.8 36.0\n",
              "L 300.5 36.0\n",
              "L 300.5 41.2\n",
              "L 306.7 41.2\n",
              "L 306.7 36.0\n",
              "L 308.3 36.0\n",
              "L 308.3 48.1\n",
              "L 306.7 48.1\n",
              "L 306.7 42.5\n",
              "L 300.5 42.5\n",
              "L 300.5 48.1\n",
              "L 298.8 48.1\n",
              "L 298.8 36.0\n",
              "' fill='#000000'/>\n",
              "<path class='atom-8' d='M 303.6 86.4\n",
              "L 305.3 86.4\n",
              "L 305.3 91.5\n",
              "L 311.4 91.5\n",
              "L 311.4 86.4\n",
              "L 313.1 86.4\n",
              "L 313.1 98.5\n",
              "L 311.4 98.5\n",
              "L 311.4 92.9\n",
              "L 305.3 92.9\n",
              "L 305.3 98.5\n",
              "L 303.6 98.5\n",
              "L 303.6 86.4\n",
              "' fill='#000000'/>\n",
              "<path class='atom-9' d='M 301.4 59.8\n",
              "L 303.0 59.8\n",
              "L 303.0 65.0\n",
              "L 309.2 65.0\n",
              "L 309.2 59.8\n",
              "L 310.8 59.8\n",
              "L 310.8 71.9\n",
              "L 309.2 71.9\n",
              "L 309.2 66.3\n",
              "L 303.0 66.3\n",
              "L 303.0 71.9\n",
              "L 301.4 71.9\n",
              "L 301.4 59.8\n",
              "' fill='#000000'/>\n",
              "<path class='atom-10' d='M 247.6 125.6\n",
              "L 249.2 125.6\n",
              "L 249.2 130.7\n",
              "L 255.4 130.7\n",
              "L 255.4 125.6\n",
              "L 257.0 125.6\n",
              "L 257.0 137.7\n",
              "L 255.4 137.7\n",
              "L 255.4 132.1\n",
              "L 249.2 132.1\n",
              "L 249.2 137.7\n",
              "L 247.6 137.7\n",
              "L 247.6 125.6\n",
              "' fill='#000000'/>\n",
              "<path class='atom-11' d='M 176.1 131.1\n",
              "L 177.7 131.1\n",
              "L 177.7 136.2\n",
              "L 183.9 136.2\n",
              "L 183.9 131.1\n",
              "L 185.6 131.1\n",
              "L 185.6 143.2\n",
              "L 183.9 143.2\n",
              "L 183.9 137.6\n",
              "L 177.7 137.6\n",
              "L 177.7 143.2\n",
              "L 176.1 143.2\n",
              "L 176.1 131.1\n",
              "' fill='#000000'/>\n",
              "<path class='atom-12' d='M 136.9 74.9\n",
              "L 138.6 74.9\n",
              "L 138.6 80.0\n",
              "L 144.7 80.0\n",
              "L 144.7 74.9\n",
              "L 146.4 74.9\n",
              "L 146.4 87.0\n",
              "L 144.7 87.0\n",
              "L 144.7 81.4\n",
              "L 138.6 81.4\n",
              "L 138.6 87.0\n",
              "L 136.9 87.0\n",
              "L 136.9 74.9\n",
              "' fill='#000000'/>\n",
              "<path class='atom-13' d='M 167.6 12.8\n",
              "L 169.3 12.8\n",
              "L 169.3 18.0\n",
              "L 175.5 18.0\n",
              "L 175.5 12.8\n",
              "L 177.1 12.8\n",
              "L 177.1 24.9\n",
              "L 175.5 24.9\n",
              "L 175.5 19.3\n",
              "L 169.3 19.3\n",
              "L 169.3 24.9\n",
              "L 167.6 24.9\n",
              "L 167.6 12.8\n",
              "' fill='#000000'/>\n",
              "<path class='atom-14' d='M 238.9 6.8\n",
              "L 240.5 6.8\n",
              "L 240.5 12.0\n",
              "L 246.7 12.0\n",
              "L 246.7 6.8\n",
              "L 248.3 6.8\n",
              "L 248.3 18.9\n",
              "L 246.7 18.9\n",
              "L 246.7 13.3\n",
              "L 240.5 13.3\n",
              "L 240.5 18.9\n",
              "L 238.9 18.9\n",
              "L 238.9 6.8\n",
              "' fill='#000000'/>\n",
              "</svg>\n"
            ],
            "image/svg+xml": "<?xml version='1.0' encoding='iso-8859-1'?>\n<svg version='1.1' baseProfile='full'\n              xmlns='http://www.w3.org/2000/svg'\n                      xmlns:rdkit='http://www.rdkit.org/xml'\n                      xmlns:xlink='http://www.w3.org/1999/xlink'\n                  xml:space='preserve'\nwidth='450px' height='150px' viewBox='0 0 450 150'>\n<!-- END OF HEADER -->\n<rect style='opacity:1.0;fill:#FFFFFF;stroke:none' width='450.0' height='150.0' x='0.0' y='0.0'> </rect>\n<path class='bond-0 atom-0 atom-1' d='M 294.7,68.1 L 252.6,72.0' style='fill:none;fill-rule:evenodd;stroke:#000000;stroke-width:2.0px;stroke-linecap:butt;stroke-linejoin:miter;stroke-opacity:1' />\n<path class='bond-1 atom-1 atom-2' d='M 252.6,72.0 L 234.4,106.6' style='fill:none;fill-rule:evenodd;stroke:#000000;stroke-width:2.0px;stroke-linecap:butt;stroke-linejoin:miter;stroke-opacity:1' />\n<path class='bond-1 atom-1 atom-2' d='M 245.4,74.8 L 232.6,99.0' style='fill:none;fill-rule:evenodd;stroke:#000000;stroke-width:2.0px;stroke-linecap:butt;stroke-linejoin:miter;stroke-opacity:1' />\n<path class='bond-2 atom-2 atom-3' d='M 234.4,106.6 L 195.3,110.1' style='fill:none;fill-rule:evenodd;stroke:#000000;stroke-width:2.0px;stroke-linecap:butt;stroke-linejoin:miter;stroke-opacity:1' />\n<path class='bond-3 atom-3 atom-4' d='M 195.3,110.1 L 172.4,78.7' style='fill:none;fill-rule:evenodd;stroke:#000000;stroke-width:2.0px;stroke-linecap:butt;stroke-linejoin:miter;stroke-opacity:1' />\n<path class='bond-3 atom-3 atom-4' d='M 196.0,102.4 L 179.9,80.4' style='fill:none;fill-rule:evenodd;stroke:#000000;stroke-width:2.0px;stroke-linecap:butt;stroke-linejoin:miter;stroke-opacity:1' />\n<path class='bond-4 atom-4 atom-5' d='M 172.4,78.7 L 190.3,44.0' style='fill:none;fill-rule:evenodd;stroke:#000000;stroke-width:2.0px;stroke-linecap:butt;stroke-linejoin:miter;stroke-opacity:1' />\n<path class='bond-5 atom-5 atom-6' d='M 190.3,44.0 L 229.5,40.6' style='fill:none;fill-rule:evenodd;stroke:#000000;stroke-width:2.0px;stroke-linecap:butt;stroke-linejoin:miter;stroke-opacity:1' />\n<path class='bond-5 atom-5 atom-6' d='M 196.6,48.6 L 224.0,46.2' style='fill:none;fill-rule:evenodd;stroke:#000000;stroke-width:2.0px;stroke-linecap:butt;stroke-linejoin:miter;stroke-opacity:1' />\n<path class='bond-6 atom-6 atom-1' d='M 229.5,40.6 L 252.6,72.0' style='fill:none;fill-rule:evenodd;stroke:#000000;stroke-width:2.0px;stroke-linecap:butt;stroke-linejoin:miter;stroke-opacity:1' />\n<path class='bond-7 atom-0 atom-7' d='M 294.7,68.1 L 301.1,49.2' style='fill:none;fill-rule:evenodd;stroke:#000000;stroke-width:2.0px;stroke-linecap:butt;stroke-linejoin:miter;stroke-opacity:1' />\n<path class='bond-8 atom-0 atom-8' d='M 294.7,68.1 L 304.4,85.3' style='fill:none;fill-rule:evenodd;stroke:#000000;stroke-width:2.0px;stroke-linecap:butt;stroke-linejoin:miter;stroke-opacity:1' />\n<path class='bond-9 atom-0 atom-9' d='M 294.7,68.1 L 300.3,67.0' style='fill:none;fill-rule:evenodd;stroke:#000000;stroke-width:2.0px;stroke-linecap:butt;stroke-linejoin:miter;stroke-opacity:1' />\n<path class='bond-10 atom-2 atom-10' d='M 234.4,106.6 L 247.2,124.5' style='fill:none;fill-rule:evenodd;stroke:#000000;stroke-width:2.0px;stroke-linecap:butt;stroke-linejoin:miter;stroke-opacity:1' />\n<path class='bond-11 atom-3 atom-11' d='M 195.3,110.1 L 184.7,130.0' style='fill:none;fill-rule:evenodd;stroke:#000000;stroke-width:2.0px;stroke-linecap:butt;stroke-linejoin:miter;stroke-opacity:1' />\n<path class='bond-12 atom-4 atom-12' d='M 172.4,78.7 L 147.5,80.5' style='fill:none;fill-rule:evenodd;stroke:#000000;stroke-width:2.0px;stroke-linecap:butt;stroke-linejoin:miter;stroke-opacity:1' />\n<path class='bond-13 atom-5 atom-13' d='M 190.3,44.0 L 177.5,26.0' style='fill:none;fill-rule:evenodd;stroke:#000000;stroke-width:2.0px;stroke-linecap:butt;stroke-linejoin:miter;stroke-opacity:1' />\n<path class='bond-14 atom-6 atom-14' d='M 229.5,40.6 L 240.0,20.0' style='fill:none;fill-rule:evenodd;stroke:#000000;stroke-width:2.0px;stroke-linecap:butt;stroke-linejoin:miter;stroke-opacity:1' />\n<path class='atom-7' d='M 298.8 36.0\nL 300.5 36.0\nL 300.5 41.2\nL 306.7 41.2\nL 306.7 36.0\nL 308.3 36.0\nL 308.3 48.1\nL 306.7 48.1\nL 306.7 42.5\nL 300.5 42.5\nL 300.5 48.1\nL 298.8 48.1\nL 298.8 36.0\n' fill='#000000'/>\n<path class='atom-8' d='M 303.6 86.4\nL 305.3 86.4\nL 305.3 91.5\nL 311.4 91.5\nL 311.4 86.4\nL 313.1 86.4\nL 313.1 98.5\nL 311.4 98.5\nL 311.4 92.9\nL 305.3 92.9\nL 305.3 98.5\nL 303.6 98.5\nL 303.6 86.4\n' fill='#000000'/>\n<path class='atom-9' d='M 301.4 59.8\nL 303.0 59.8\nL 303.0 65.0\nL 309.2 65.0\nL 309.2 59.8\nL 310.8 59.8\nL 310.8 71.9\nL 309.2 71.9\nL 309.2 66.3\nL 303.0 66.3\nL 303.0 71.9\nL 301.4 71.9\nL 301.4 59.8\n' fill='#000000'/>\n<path class='atom-10' d='M 247.6 125.6\nL 249.2 125.6\nL 249.2 130.7\nL 255.4 130.7\nL 255.4 125.6\nL 257.0 125.6\nL 257.0 137.7\nL 255.4 137.7\nL 255.4 132.1\nL 249.2 132.1\nL 249.2 137.7\nL 247.6 137.7\nL 247.6 125.6\n' fill='#000000'/>\n<path class='atom-11' d='M 176.1 131.1\nL 177.7 131.1\nL 177.7 136.2\nL 183.9 136.2\nL 183.9 131.1\nL 185.6 131.1\nL 185.6 143.2\nL 183.9 143.2\nL 183.9 137.6\nL 177.7 137.6\nL 177.7 143.2\nL 176.1 143.2\nL 176.1 131.1\n' fill='#000000'/>\n<path class='atom-12' d='M 136.9 74.9\nL 138.6 74.9\nL 138.6 80.0\nL 144.7 80.0\nL 144.7 74.9\nL 146.4 74.9\nL 146.4 87.0\nL 144.7 87.0\nL 144.7 81.4\nL 138.6 81.4\nL 138.6 87.0\nL 136.9 87.0\nL 136.9 74.9\n' fill='#000000'/>\n<path class='atom-13' d='M 167.6 12.8\nL 169.3 12.8\nL 169.3 18.0\nL 175.5 18.0\nL 175.5 12.8\nL 177.1 12.8\nL 177.1 24.9\nL 175.5 24.9\nL 175.5 19.3\nL 169.3 19.3\nL 169.3 24.9\nL 167.6 24.9\nL 167.6 12.8\n' fill='#000000'/>\n<path class='atom-14' d='M 238.9 6.8\nL 240.5 6.8\nL 240.5 12.0\nL 246.7 12.0\nL 246.7 6.8\nL 248.3 6.8\nL 248.3 18.9\nL 246.7 18.9\nL 246.7 13.3\nL 240.5 13.3\nL 240.5 18.9\nL 238.9 18.9\nL 238.9 6.8\n' fill='#000000'/>\n</svg>\n",
            "image/png": "[encoded data removed]"
          },
          "metadata": {},
          "execution_count": 21
        }
      ]
    },
    {
      "cell_type": "code",
      "source": [
        "print(Chem.MolToMolBlock(m2))"
      ],
      "metadata": {
        "colab": {
          "base_uri": "https://localhost:8080/",
          "height": 0
        },
        "id": "BfwFJszUxffy",
        "outputId": "3ab11b76-cacd-4b63-91b0-b745745ae4a7"
      },
      "execution_count": 22,
      "outputs": [
        {
          "output_type": "stream",
          "name": "stdout",
          "text": [
            "My_mol\n",
            "     RDKit          3D\n",
            "\n",
            " 15 15  0  0  0  0  0  0  0  0999 V2000\n",
            "    2.2092    0.1897   -0.0832 C   0  0  0  0  0  0  0  0  0  0  0  0\n",
            "    0.7295    0.0520   -0.0362 C   0  0  0  0  0  0  0  0  0  0  0  0\n",
            "    0.0889   -1.1634   -0.1601 C   0  0  0  0  0  0  0  0  0  0  0  0\n",
            "   -1.2841   -1.2886   -0.1162 C   0  0  0  0  0  0  0  0  0  0  0  0\n",
            "   -2.0914   -0.1831    0.0568 C   0  0  0  0  0  0  0  0  0  0  0  0\n",
            "   -1.4601    1.0358    0.1815 C   0  0  0  0  0  0  0  0  0  0  0  0\n",
            "   -0.0847    1.1549    0.1367 C   0  0  0  0  0  0  0  0  0  0  0  0\n",
            "    2.5204    1.1030    0.5021 H   0  0  0  0  0  0  0  0  0  0  0  0\n",
            "    2.6882   -0.6673    0.4742 H   0  0  0  0  0  0  0  0  0  0  0  0\n",
            "    2.6093    0.2665   -1.0947 H   0  0  0  0  0  0  0  0  0  0  0  0\n",
            "    0.7181   -2.0450   -0.2974 H   0  0  0  0  0  0  0  0  0  0  0  0\n",
            "   -1.7937   -2.2384   -0.2126 H   0  0  0  0  0  0  0  0  0  0  0  0\n",
            "   -3.1709   -0.2637    0.0935 H   0  0  0  0  0  0  0  0  0  0  0  0\n",
            "   -2.0908    1.9182    0.3190 H   0  0  0  0  0  0  0  0  0  0  0  0\n",
            "    0.4121    2.1294    0.2368 H   0  0  0  0  0  0  0  0  0  0  0  0\n",
            "  1  2  1  0\n",
            "  2  3  2  0\n",
            "  3  4  1  0\n",
            "  4  5  2  0\n",
            "  5  6  1  0\n",
            "  6  7  2  0\n",
            "  7  2  1  0\n",
            "  1  8  1  0\n",
            "  1  9  1  0\n",
            "  1 10  1  0\n",
            "  3 11  1  0\n",
            "  4 12  1  0\n",
            "  5 13  1  0\n",
            "  6 14  1  0\n",
            "  7 15  1  0\n",
            "M  END\n",
            "\n"
          ]
        }
      ]
    },
    {
      "cell_type": "code",
      "source": [
        "# 에탄올\n",
        "m3 = Chem.MolFromSmiles('OCC')\n",
        "m3"
      ],
      "metadata": {
        "colab": {
          "base_uri": "https://localhost:8080/",
          "height": 171
        },
        "id": "kJVYCPkVxnQ1",
        "outputId": "347e07c0-225e-4e17-899d-980538b3e755"
      },
      "execution_count": 26,
      "outputs": [
        {
          "output_type": "execute_result",
          "data": {
            "text/plain": [
              "<rdkit.Chem.rdchem.Mol at 0x7f9afa581d00>"
            ],
            "text/html": [
              "<?xml version='1.0' encoding='iso-8859-1'?>\n",
              "<svg version='1.1' baseProfile='full'\n",
              "              xmlns='http://www.w3.org/2000/svg'\n",
              "                      xmlns:rdkit='http://www.rdkit.org/xml'\n",
              "                      xmlns:xlink='http://www.w3.org/1999/xlink'\n",
              "                  xml:space='preserve'\n",
              "width='450px' height='150px' viewBox='0 0 450 150'>\n",
              "<!-- END OF HEADER -->\n",
              "<rect style='opacity:1.0;fill:#FFFFFF;stroke:none' width='450.0' height='150.0' x='0.0' y='0.0'> </rect>\n",
              "<path class='bond-0 atom-0 atom-1' d='M 355.4,105.0 L 280.9,62.0' style='fill:none;fill-rule:evenodd;stroke:#FF0000;stroke-width:2.0px;stroke-linecap:butt;stroke-linejoin:miter;stroke-opacity:1' />\n",
              "<path class='bond-0 atom-0 atom-1' d='M 280.9,62.0 L 206.4,19.0' style='fill:none;fill-rule:evenodd;stroke:#000000;stroke-width:2.0px;stroke-linecap:butt;stroke-linejoin:miter;stroke-opacity:1' />\n",
              "<path class='bond-1 atom-1 atom-2' d='M 206.4,19.0 L 38.0,116.2' style='fill:none;fill-rule:evenodd;stroke:#000000;stroke-width:2.0px;stroke-linecap:butt;stroke-linejoin:miter;stroke-opacity:1' />\n",
              "<path class='atom-0' d='M 361.8 116.3\n",
              "Q 361.8 109.5, 365.2 105.7\n",
              "Q 368.6 101.9, 374.8 101.9\n",
              "Q 381.1 101.9, 384.5 105.7\n",
              "Q 387.8 109.5, 387.8 116.3\n",
              "Q 387.8 123.2, 384.4 127.1\n",
              "Q 381.0 131.0, 374.8 131.0\n",
              "Q 368.6 131.0, 365.2 127.1\n",
              "Q 361.8 123.2, 361.8 116.3\n",
              "M 374.8 127.8\n",
              "Q 379.2 127.8, 381.5 124.9\n",
              "Q 383.8 122.0, 383.8 116.3\n",
              "Q 383.8 110.8, 381.5 108.0\n",
              "Q 379.2 105.1, 374.8 105.1\n",
              "Q 370.5 105.1, 368.2 107.9\n",
              "Q 365.8 110.7, 365.8 116.3\n",
              "Q 365.8 122.0, 368.2 124.9\n",
              "Q 370.5 127.8, 374.8 127.8\n",
              "' fill='#FF0000'/>\n",
              "<path class='atom-0' d='M 389.8 102.2\n",
              "L 393.7 102.2\n",
              "L 393.7 114.3\n",
              "L 408.2 114.3\n",
              "L 408.2 102.2\n",
              "L 412.0 102.2\n",
              "L 412.0 130.6\n",
              "L 408.2 130.6\n",
              "L 408.2 117.5\n",
              "L 393.7 117.5\n",
              "L 393.7 130.6\n",
              "L 389.8 130.6\n",
              "L 389.8 102.2\n",
              "' fill='#FF0000'/>\n",
              "</svg>\n"
            ],
            "image/svg+xml": "<?xml version='1.0' encoding='iso-8859-1'?>\n<svg version='1.1' baseProfile='full'\n              xmlns='http://www.w3.org/2000/svg'\n                      xmlns:rdkit='http://www.rdkit.org/xml'\n                      xmlns:xlink='http://www.w3.org/1999/xlink'\n                  xml:space='preserve'\nwidth='450px' height='150px' viewBox='0 0 450 150'>\n<!-- END OF HEADER -->\n<rect style='opacity:1.0;fill:#FFFFFF;stroke:none' width='450.0' height='150.0' x='0.0' y='0.0'> </rect>\n<path class='bond-0 atom-0 atom-1' d='M 355.4,105.0 L 280.9,62.0' style='fill:none;fill-rule:evenodd;stroke:#FF0000;stroke-width:2.0px;stroke-linecap:butt;stroke-linejoin:miter;stroke-opacity:1' />\n<path class='bond-0 atom-0 atom-1' d='M 280.9,62.0 L 206.4,19.0' style='fill:none;fill-rule:evenodd;stroke:#000000;stroke-width:2.0px;stroke-linecap:butt;stroke-linejoin:miter;stroke-opacity:1' />\n<path class='bond-1 atom-1 atom-2' d='M 206.4,19.0 L 38.0,116.2' style='fill:none;fill-rule:evenodd;stroke:#000000;stroke-width:2.0px;stroke-linecap:butt;stroke-linejoin:miter;stroke-opacity:1' />\n<path class='atom-0' d='M 361.8 116.3\nQ 361.8 109.5, 365.2 105.7\nQ 368.6 101.9, 374.8 101.9\nQ 381.1 101.9, 384.5 105.7\nQ 387.8 109.5, 387.8 116.3\nQ 387.8 123.2, 384.4 127.1\nQ 381.0 131.0, 374.8 131.0\nQ 368.6 131.0, 365.2 127.1\nQ 361.8 123.2, 361.8 116.3\nM 374.8 127.8\nQ 379.2 127.8, 381.5 124.9\nQ 383.8 122.0, 383.8 116.3\nQ 383.8 110.8, 381.5 108.0\nQ 379.2 105.1, 374.8 105.1\nQ 370.5 105.1, 368.2 107.9\nQ 365.8 110.7, 365.8 116.3\nQ 365.8 122.0, 368.2 124.9\nQ 370.5 127.8, 374.8 127.8\n' fill='#FF0000'/>\n<path class='atom-0' d='M 389.8 102.2\nL 393.7 102.2\nL 393.7 114.3\nL 408.2 114.3\nL 408.2 102.2\nL 412.0 102.2\nL 412.0 130.6\nL 408.2 130.6\nL 408.2 117.5\nL 393.7 117.5\nL 393.7 130.6\nL 389.8 130.6\nL 389.8 102.2\n' fill='#FF0000'/>\n</svg>\n",
            "image/png": "[encoded data removed]"
          },
          "metadata": {},
          "execution_count": 26
        }
      ]
    },
    {
      "cell_type": "code",
      "source": [
        "m4 = Chem.AddHs(m3)\n",
        "m4"
      ],
      "metadata": {
        "colab": {
          "base_uri": "https://localhost:8080/",
          "height": 171
        },
        "id": "222z1j79zO1I",
        "outputId": "5101ce89-427e-4af7-9863-8a059a215160"
      },
      "execution_count": 27,
      "outputs": [
        {
          "output_type": "execute_result",
          "data": {
            "text/plain": [
              "<rdkit.Chem.rdchem.Mol at 0x7f9afa47d670>"
            ],
            "text/html": [
              "<?xml version='1.0' encoding='iso-8859-1'?>\n",
              "<svg version='1.1' baseProfile='full'\n",
              "              xmlns='http://www.w3.org/2000/svg'\n",
              "                      xmlns:rdkit='http://www.rdkit.org/xml'\n",
              "                      xmlns:xlink='http://www.w3.org/1999/xlink'\n",
              "                  xml:space='preserve'\n",
              "width='450px' height='150px' viewBox='0 0 450 150'>\n",
              "<!-- END OF HEADER -->\n",
              "<rect style='opacity:1.0;fill:#FFFFFF;stroke:none' width='450.0' height='150.0' x='0.0' y='0.0'> </rect>\n",
              "<path class='bond-0 atom-0 atom-1' d='M 174.6,54.7 L 196.5,61.1' style='fill:none;fill-rule:evenodd;stroke:#FF0000;stroke-width:2.0px;stroke-linecap:butt;stroke-linejoin:miter;stroke-opacity:1' />\n",
              "<path class='bond-0 atom-0 atom-1' d='M 196.5,61.1 L 218.4,67.4' style='fill:none;fill-rule:evenodd;stroke:#000000;stroke-width:2.0px;stroke-linecap:butt;stroke-linejoin:miter;stroke-opacity:1' />\n",
              "<path class='bond-1 atom-1 atom-2' d='M 218.4,67.4 L 271.2,82.6' style='fill:none;fill-rule:evenodd;stroke:#000000;stroke-width:2.0px;stroke-linecap:butt;stroke-linejoin:miter;stroke-opacity:1' />\n",
              "<path class='bond-2 atom-0 atom-3' d='M 156.7,60.8 L 145.3,71.7' style='fill:none;fill-rule:evenodd;stroke:#FF0000;stroke-width:2.0px;stroke-linecap:butt;stroke-linejoin:miter;stroke-opacity:1' />\n",
              "<path class='bond-2 atom-0 atom-3' d='M 145.3,71.7 L 133.9,82.6' style='fill:none;fill-rule:evenodd;stroke:#000000;stroke-width:2.0px;stroke-linecap:butt;stroke-linejoin:miter;stroke-opacity:1' />\n",
              "<path class='bond-3 atom-1 atom-4' d='M 218.4,67.4 L 230.9,24.2' style='fill:none;fill-rule:evenodd;stroke:#000000;stroke-width:2.0px;stroke-linecap:butt;stroke-linejoin:miter;stroke-opacity:1' />\n",
              "<path class='bond-4 atom-1 atom-5' d='M 218.4,67.4 L 205.9,110.6' style='fill:none;fill-rule:evenodd;stroke:#000000;stroke-width:2.0px;stroke-linecap:butt;stroke-linejoin:miter;stroke-opacity:1' />\n",
              "<path class='bond-5 atom-2 atom-6' d='M 271.2,82.6 L 316.1,95.6' style='fill:none;fill-rule:evenodd;stroke:#000000;stroke-width:2.0px;stroke-linecap:butt;stroke-linejoin:miter;stroke-opacity:1' />\n",
              "<path class='bond-6 atom-2 atom-7' d='M 271.2,82.6 L 258.7,125.8' style='fill:none;fill-rule:evenodd;stroke:#000000;stroke-width:2.0px;stroke-linecap:butt;stroke-linejoin:miter;stroke-opacity:1' />\n",
              "<path class='bond-7 atom-2 atom-8' d='M 271.2,82.6 L 283.7,39.4' style='fill:none;fill-rule:evenodd;stroke:#000000;stroke-width:2.0px;stroke-linecap:butt;stroke-linejoin:miter;stroke-opacity:1' />\n",
              "<path class='atom-0' d='M 158.5 52.2\n",
              "Q 158.5 48.5, 160.3 46.4\n",
              "Q 162.2 44.3, 165.6 44.3\n",
              "Q 169.1 44.3, 170.9 46.4\n",
              "Q 172.8 48.5, 172.8 52.2\n",
              "Q 172.8 56.0, 170.9 58.1\n",
              "Q 169.0 60.3, 165.6 60.3\n",
              "Q 162.2 60.3, 160.3 58.1\n",
              "Q 158.5 56.0, 158.5 52.2\n",
              "M 165.6 58.5\n",
              "Q 168.0 58.5, 169.3 56.9\n",
              "Q 170.6 55.3, 170.6 52.2\n",
              "Q 170.6 49.1, 169.3 47.6\n",
              "Q 168.0 46.0, 165.6 46.0\n",
              "Q 163.2 46.0, 161.9 47.6\n",
              "Q 160.7 49.1, 160.7 52.2\n",
              "Q 160.7 55.3, 161.9 56.9\n",
              "Q 163.2 58.5, 165.6 58.5\n",
              "' fill='#FF0000'/>\n",
              "<path class='atom-3' d='M 119.9 82.5\n",
              "L 122.1 82.5\n",
              "L 122.1 89.1\n",
              "L 130.0 89.1\n",
              "L 130.0 82.5\n",
              "L 132.1 82.5\n",
              "L 132.1 98.0\n",
              "L 130.0 98.0\n",
              "L 130.0 90.8\n",
              "L 122.1 90.8\n",
              "L 122.1 98.0\n",
              "L 119.9 98.0\n",
              "L 119.9 82.5\n",
              "' fill='#000000'/>\n",
              "<path class='atom-4' d='M 227.6 6.8\n",
              "L 229.7 6.8\n",
              "L 229.7 13.4\n",
              "L 237.6 13.4\n",
              "L 237.6 6.8\n",
              "L 239.7 6.8\n",
              "L 239.7 22.4\n",
              "L 237.6 22.4\n",
              "L 237.6 15.2\n",
              "L 229.7 15.2\n",
              "L 229.7 22.4\n",
              "L 227.6 22.4\n",
              "L 227.6 6.8\n",
              "' fill='#000000'/>\n",
              "<path class='atom-5' d='M 197.1 112.4\n",
              "L 199.2 112.4\n",
              "L 199.2 119.0\n",
              "L 207.1 119.0\n",
              "L 207.1 112.4\n",
              "L 209.3 112.4\n",
              "L 209.3 127.9\n",
              "L 207.1 127.9\n",
              "L 207.1 120.8\n",
              "L 199.2 120.8\n",
              "L 199.2 127.9\n",
              "L 197.1 127.9\n",
              "L 197.1 112.4\n",
              "' fill='#000000'/>\n",
              "<path class='atom-6' d='M 317.9 90.1\n",
              "L 320.0 90.1\n",
              "L 320.0 96.7\n",
              "L 327.9 96.7\n",
              "L 327.9 90.1\n",
              "L 330.1 90.1\n",
              "L 330.1 105.6\n",
              "L 327.9 105.6\n",
              "L 327.9 98.4\n",
              "L 320.0 98.4\n",
              "L 320.0 105.6\n",
              "L 317.9 105.6\n",
              "L 317.9 90.1\n",
              "' fill='#000000'/>\n",
              "<path class='atom-7' d='M 249.9 127.6\n",
              "L 252.0 127.6\n",
              "L 252.0 134.2\n",
              "L 259.9 134.2\n",
              "L 259.9 127.6\n",
              "L 262.0 127.6\n",
              "L 262.0 143.2\n",
              "L 259.9 143.2\n",
              "L 259.9 136.0\n",
              "L 252.0 136.0\n",
              "L 252.0 143.2\n",
              "L 249.9 143.2\n",
              "L 249.9 127.6\n",
              "' fill='#000000'/>\n",
              "<path class='atom-8' d='M 280.3 22.1\n",
              "L 282.4 22.1\n",
              "L 282.4 28.7\n",
              "L 290.4 28.7\n",
              "L 290.4 22.1\n",
              "L 292.5 22.1\n",
              "L 292.5 37.6\n",
              "L 290.4 37.6\n",
              "L 290.4 30.4\n",
              "L 282.4 30.4\n",
              "L 282.4 37.6\n",
              "L 280.3 37.6\n",
              "L 280.3 22.1\n",
              "' fill='#000000'/>\n",
              "</svg>\n"
            ],
            "image/svg+xml": "<?xml version='1.0' encoding='iso-8859-1'?>\n<svg version='1.1' baseProfile='full'\n              xmlns='http://www.w3.org/2000/svg'\n                      xmlns:rdkit='http://www.rdkit.org/xml'\n                      xmlns:xlink='http://www.w3.org/1999/xlink'\n                  xml:space='preserve'\nwidth='450px' height='150px' viewBox='0 0 450 150'>\n<!-- END OF HEADER -->\n<rect style='opacity:1.0;fill:#FFFFFF;stroke:none' width='450.0' height='150.0' x='0.0' y='0.0'> </rect>\n<path class='bond-0 atom-0 atom-1' d='M 174.6,54.7 L 196.5,61.1' style='fill:none;fill-rule:evenodd;stroke:#FF0000;stroke-width:2.0px;stroke-linecap:butt;stroke-linejoin:miter;stroke-opacity:1' />\n<path class='bond-0 atom-0 atom-1' d='M 196.5,61.1 L 218.4,67.4' style='fill:none;fill-rule:evenodd;stroke:#000000;stroke-width:2.0px;stroke-linecap:butt;stroke-linejoin:miter;stroke-opacity:1' />\n<path class='bond-1 atom-1 atom-2' d='M 218.4,67.4 L 271.2,82.6' style='fill:none;fill-rule:evenodd;stroke:#000000;stroke-width:2.0px;stroke-linecap:butt;stroke-linejoin:miter;stroke-opacity:1' />\n<path class='bond-2 atom-0 atom-3' d='M 156.7,60.8 L 145.3,71.7' style='fill:none;fill-rule:evenodd;stroke:#FF0000;stroke-width:2.0px;stroke-linecap:butt;stroke-linejoin:miter;stroke-opacity:1' />\n<path class='bond-2 atom-0 atom-3' d='M 145.3,71.7 L 133.9,82.6' style='fill:none;fill-rule:evenodd;stroke:#000000;stroke-width:2.0px;stroke-linecap:butt;stroke-linejoin:miter;stroke-opacity:1' />\n<path class='bond-3 atom-1 atom-4' d='M 218.4,67.4 L 230.9,24.2' style='fill:none;fill-rule:evenodd;stroke:#000000;stroke-width:2.0px;stroke-linecap:butt;stroke-linejoin:miter;stroke-opacity:1' />\n<path class='bond-4 atom-1 atom-5' d='M 218.4,67.4 L 205.9,110.6' style='fill:none;fill-rule:evenodd;stroke:#000000;stroke-width:2.0px;stroke-linecap:butt;stroke-linejoin:miter;stroke-opacity:1' />\n<path class='bond-5 atom-2 atom-6' d='M 271.2,82.6 L 316.1,95.6' style='fill:none;fill-rule:evenodd;stroke:#000000;stroke-width:2.0px;stroke-linecap:butt;stroke-linejoin:miter;stroke-opacity:1' />\n<path class='bond-6 atom-2 atom-7' d='M 271.2,82.6 L 258.7,125.8' style='fill:none;fill-rule:evenodd;stroke:#000000;stroke-width:2.0px;stroke-linecap:butt;stroke-linejoin:miter;stroke-opacity:1' />\n<path class='bond-7 atom-2 atom-8' d='M 271.2,82.6 L 283.7,39.4' style='fill:none;fill-rule:evenodd;stroke:#000000;stroke-width:2.0px;stroke-linecap:butt;stroke-linejoin:miter;stroke-opacity:1' />\n<path class='atom-0' d='M 158.5 52.2\nQ 158.5 48.5, 160.3 46.4\nQ 162.2 44.3, 165.6 44.3\nQ 169.1 44.3, 170.9 46.4\nQ 172.8 48.5, 172.8 52.2\nQ 172.8 56.0, 170.9 58.1\nQ 169.0 60.3, 165.6 60.3\nQ 162.2 60.3, 160.3 58.1\nQ 158.5 56.0, 158.5 52.2\nM 165.6 58.5\nQ 168.0 58.5, 169.3 56.9\nQ 170.6 55.3, 170.6 52.2\nQ 170.6 49.1, 169.3 47.6\nQ 168.0 46.0, 165.6 46.0\nQ 163.2 46.0, 161.9 47.6\nQ 160.7 49.1, 160.7 52.2\nQ 160.7 55.3, 161.9 56.9\nQ 163.2 58.5, 165.6 58.5\n' fill='#FF0000'/>\n<path class='atom-3' d='M 119.9 82.5\nL 122.1 82.5\nL 122.1 89.1\nL 130.0 89.1\nL 130.0 82.5\nL 132.1 82.5\nL 132.1 98.0\nL 130.0 98.0\nL 130.0 90.8\nL 122.1 90.8\nL 122.1 98.0\nL 119.9 98.0\nL 119.9 82.5\n' fill='#000000'/>\n<path class='atom-4' d='M 227.6 6.8\nL 229.7 6.8\nL 229.7 13.4\nL 237.6 13.4\nL 237.6 6.8\nL 239.7 6.8\nL 239.7 22.4\nL 237.6 22.4\nL 237.6 15.2\nL 229.7 15.2\nL 229.7 22.4\nL 227.6 22.4\nL 227.6 6.8\n' fill='#000000'/>\n<path class='atom-5' d='M 197.1 112.4\nL 199.2 112.4\nL 199.2 119.0\nL 207.1 119.0\nL 207.1 112.4\nL 209.3 112.4\nL 209.3 127.9\nL 207.1 127.9\nL 207.1 120.8\nL 199.2 120.8\nL 199.2 127.9\nL 197.1 127.9\nL 197.1 112.4\n' fill='#000000'/>\n<path class='atom-6' d='M 317.9 90.1\nL 320.0 90.1\nL 320.0 96.7\nL 327.9 96.7\nL 327.9 90.1\nL 330.1 90.1\nL 330.1 105.6\nL 327.9 105.6\nL 327.9 98.4\nL 320.0 98.4\nL 320.0 105.6\nL 317.9 105.6\nL 317.9 90.1\n' fill='#000000'/>\n<path class='atom-7' d='M 249.9 127.6\nL 252.0 127.6\nL 252.0 134.2\nL 259.9 134.2\nL 259.9 127.6\nL 262.0 127.6\nL 262.0 143.2\nL 259.9 143.2\nL 259.9 136.0\nL 252.0 136.0\nL 252.0 143.2\nL 249.9 143.2\nL 249.9 127.6\n' fill='#000000'/>\n<path class='atom-8' d='M 280.3 22.1\nL 282.4 22.1\nL 282.4 28.7\nL 290.4 28.7\nL 290.4 22.1\nL 292.5 22.1\nL 292.5 37.6\nL 290.4 37.6\nL 290.4 30.4\nL 282.4 30.4\nL 282.4 37.6\nL 280.3 37.6\nL 280.3 22.1\n' fill='#000000'/>\n</svg>\n",
            "image/png": "[encoded data removed]"
          },
          "metadata": {},
          "execution_count": 27
        }
      ]
    },
    {
      "cell_type": "code",
      "source": [
        "# 3차원 구조로 변화\n",
        "AllChem.EmbedMolecule(m4)\n",
        "m4"
      ],
      "metadata": {
        "colab": {
          "base_uri": "https://localhost:8080/",
          "height": 171
        },
        "id": "hAXSGf_vzYP6",
        "outputId": "689e55bb-1971-459b-aebf-c3aee6a56334"
      },
      "execution_count": 29,
      "outputs": [
        {
          "output_type": "execute_result",
          "data": {
            "text/plain": [
              "<rdkit.Chem.rdchem.Mol at 0x7f9afa47d670>"
            ],
            "text/html": [
              "<?xml version='1.0' encoding='iso-8859-1'?>\n",
              "<svg version='1.1' baseProfile='full'\n",
              "              xmlns='http://www.w3.org/2000/svg'\n",
              "                      xmlns:rdkit='http://www.rdkit.org/xml'\n",
              "                      xmlns:xlink='http://www.w3.org/1999/xlink'\n",
              "                  xml:space='preserve'\n",
              "width='450px' height='150px' viewBox='0 0 450 150'>\n",
              "<!-- END OF HEADER -->\n",
              "<rect style='opacity:1.0;fill:#FFFFFF;stroke:none' width='450.0' height='150.0' x='0.0' y='0.0'> </rect>\n",
              "<path class='bond-0 atom-0 atom-1' d='M 171.4,57.4 L 189.5,74.7' style='fill:none;fill-rule:evenodd;stroke:#FF0000;stroke-width:2.0px;stroke-linecap:butt;stroke-linejoin:miter;stroke-opacity:1' />\n",
              "<path class='bond-0 atom-0 atom-1' d='M 189.5,74.7 L 207.6,92.1' style='fill:none;fill-rule:evenodd;stroke:#000000;stroke-width:2.0px;stroke-linecap:butt;stroke-linejoin:miter;stroke-opacity:1' />\n",
              "<path class='bond-1 atom-1 atom-2' d='M 207.6,92.1 L 266.8,60.7' style='fill:none;fill-rule:evenodd;stroke:#000000;stroke-width:2.0px;stroke-linecap:butt;stroke-linejoin:miter;stroke-opacity:1' />\n",
              "<path class='bond-2 atom-0 atom-3' d='M 150.4,39.5 L 147.1,37.0' style='fill:none;fill-rule:evenodd;stroke:#FF0000;stroke-width:2.0px;stroke-linecap:butt;stroke-linejoin:miter;stroke-opacity:1' />\n",
              "<path class='bond-2 atom-0 atom-3' d='M 147.1,37.0 L 143.8,34.5' style='fill:none;fill-rule:evenodd;stroke:#000000;stroke-width:2.0px;stroke-linecap:butt;stroke-linejoin:miter;stroke-opacity:1' />\n",
              "<path class='bond-3 atom-1 atom-4' d='M 207.6,92.1 L 211.0,98.3' style='fill:none;fill-rule:evenodd;stroke:#000000;stroke-width:2.0px;stroke-linecap:butt;stroke-linejoin:miter;stroke-opacity:1' />\n",
              "<path class='bond-4 atom-1 atom-5' d='M 207.6,92.1 L 197.7,121.9' style='fill:none;fill-rule:evenodd;stroke:#000000;stroke-width:2.0px;stroke-linecap:butt;stroke-linejoin:miter;stroke-opacity:1' />\n",
              "<path class='bond-5 atom-2 atom-6' d='M 266.8,60.7 L 266.9,59.0' style='fill:none;fill-rule:evenodd;stroke:#000000;stroke-width:2.0px;stroke-linecap:butt;stroke-linejoin:miter;stroke-opacity:1' />\n",
              "<path class='bond-6 atom-2 atom-7' d='M 266.8,60.7 L 270.9,28.1' style='fill:none;fill-rule:evenodd;stroke:#000000;stroke-width:2.0px;stroke-linecap:butt;stroke-linejoin:miter;stroke-opacity:1' />\n",
              "<path class='bond-7 atom-2 atom-8' d='M 266.8,60.7 L 297.1,86.2' style='fill:none;fill-rule:evenodd;stroke:#000000;stroke-width:2.0px;stroke-linecap:butt;stroke-linejoin:miter;stroke-opacity:1' />\n",
              "<path class='atom-0' d='M 151.7 47.4\n",
              "Q 151.7 42.6, 154.1 40.0\n",
              "Q 156.5 37.3, 160.9 37.3\n",
              "Q 165.3 37.3, 167.7 40.0\n",
              "Q 170.1 42.6, 170.1 47.4\n",
              "Q 170.1 52.3, 167.7 55.0\n",
              "Q 165.3 57.8, 160.9 57.8\n",
              "Q 156.5 57.8, 154.1 55.0\n",
              "Q 151.7 52.3, 151.7 47.4\n",
              "M 160.9 55.5\n",
              "Q 163.9 55.5, 165.6 53.5\n",
              "Q 167.2 51.4, 167.2 47.4\n",
              "Q 167.2 43.5, 165.6 41.5\n",
              "Q 163.9 39.5, 160.9 39.5\n",
              "Q 157.8 39.5, 156.2 41.5\n",
              "Q 154.5 43.5, 154.5 47.4\n",
              "Q 154.5 51.5, 156.2 53.5\n",
              "Q 157.8 55.5, 160.9 55.5\n",
              "' fill='#FF0000'/>\n",
              "<path class='atom-3' d='M 135.9 24.6\n",
              "L 138.7 24.6\n",
              "L 138.7 33.0\n",
              "L 148.9 33.0\n",
              "L 148.9 24.6\n",
              "L 151.6 24.6\n",
              "L 151.6 44.5\n",
              "L 148.9 44.5\n",
              "L 148.9 35.3\n",
              "L 138.7 35.3\n",
              "L 138.7 44.5\n",
              "L 135.9 44.5\n",
              "L 135.9 24.6\n",
              "' fill='#000000'/>\n",
              "<path class='atom-4' d='M 209.4 99.6\n",
              "L 212.1 99.6\n",
              "L 212.1 108.1\n",
              "L 222.4 108.1\n",
              "L 222.4 99.6\n",
              "L 225.1 99.6\n",
              "L 225.1 119.6\n",
              "L 222.4 119.6\n",
              "L 222.4 110.4\n",
              "L 212.1 110.4\n",
              "L 212.1 119.6\n",
              "L 209.4 119.6\n",
              "L 209.4 99.6\n",
              "' fill='#000000'/>\n",
              "<path class='atom-5' d='M 186.2 123.2\n",
              "L 188.9 123.2\n",
              "L 188.9 131.7\n",
              "L 199.1 131.7\n",
              "L 199.1 123.2\n",
              "L 201.8 123.2\n",
              "L 201.8 143.2\n",
              "L 199.1 143.2\n",
              "L 199.1 134.0\n",
              "L 188.9 134.0\n",
              "L 188.9 143.2\n",
              "L 186.2 143.2\n",
              "L 186.2 123.2\n",
              "' fill='#000000'/>\n",
              "<path class='atom-6' d='M 259.9 37.7\n",
              "L 262.6 37.7\n",
              "L 262.6 46.2\n",
              "L 272.8 46.2\n",
              "L 272.8 37.7\n",
              "L 275.5 37.7\n",
              "L 275.5 57.7\n",
              "L 272.8 57.7\n",
              "L 272.8 48.5\n",
              "L 262.6 48.5\n",
              "L 262.6 57.7\n",
              "L 259.9 57.7\n",
              "L 259.9 37.7\n",
              "' fill='#000000'/>\n",
              "<path class='atom-7' d='M 264.5 6.8\n",
              "L 267.2 6.8\n",
              "L 267.2 15.3\n",
              "L 277.4 15.3\n",
              "L 277.4 6.8\n",
              "L 280.1 6.8\n",
              "L 280.1 26.8\n",
              "L 277.4 26.8\n",
              "L 277.4 17.6\n",
              "L 267.2 17.6\n",
              "L 267.2 26.8\n",
              "L 264.5 26.8\n",
              "L 264.5 6.8\n",
              "' fill='#000000'/>\n",
              "<path class='atom-8' d='M 298.4 84.0\n",
              "L 301.1 84.0\n",
              "L 301.1 92.4\n",
              "L 311.3 92.4\n",
              "L 311.3 84.0\n",
              "L 314.1 84.0\n",
              "L 314.1 103.9\n",
              "L 311.3 103.9\n",
              "L 311.3 94.7\n",
              "L 301.1 94.7\n",
              "L 301.1 103.9\n",
              "L 298.4 103.9\n",
              "L 298.4 84.0\n",
              "' fill='#000000'/>\n",
              "</svg>\n"
            ],
            "image/svg+xml": "<?xml version='1.0' encoding='iso-8859-1'?>\n<svg version='1.1' baseProfile='full'\n              xmlns='http://www.w3.org/2000/svg'\n                      xmlns:rdkit='http://www.rdkit.org/xml'\n                      xmlns:xlink='http://www.w3.org/1999/xlink'\n                  xml:space='preserve'\nwidth='450px' height='150px' viewBox='0 0 450 150'>\n<!-- END OF HEADER -->\n<rect style='opacity:1.0;fill:#FFFFFF;stroke:none' width='450.0' height='150.0' x='0.0' y='0.0'> </rect>\n<path class='bond-0 atom-0 atom-1' d='M 171.4,57.4 L 189.5,74.7' style='fill:none;fill-rule:evenodd;stroke:#FF0000;stroke-width:2.0px;stroke-linecap:butt;stroke-linejoin:miter;stroke-opacity:1' />\n<path class='bond-0 atom-0 atom-1' d='M 189.5,74.7 L 207.6,92.1' style='fill:none;fill-rule:evenodd;stroke:#000000;stroke-width:2.0px;stroke-linecap:butt;stroke-linejoin:miter;stroke-opacity:1' />\n<path class='bond-1 atom-1 atom-2' d='M 207.6,92.1 L 266.8,60.7' style='fill:none;fill-rule:evenodd;stroke:#000000;stroke-width:2.0px;stroke-linecap:butt;stroke-linejoin:miter;stroke-opacity:1' />\n<path class='bond-2 atom-0 atom-3' d='M 150.4,39.5 L 147.1,37.0' style='fill:none;fill-rule:evenodd;stroke:#FF0000;stroke-width:2.0px;stroke-linecap:butt;stroke-linejoin:miter;stroke-opacity:1' />\n<path class='bond-2 atom-0 atom-3' d='M 147.1,37.0 L 143.8,34.5' style='fill:none;fill-rule:evenodd;stroke:#000000;stroke-width:2.0px;stroke-linecap:butt;stroke-linejoin:miter;stroke-opacity:1' />\n<path class='bond-3 atom-1 atom-4' d='M 207.6,92.1 L 211.0,98.3' style='fill:none;fill-rule:evenodd;stroke:#000000;stroke-width:2.0px;stroke-linecap:butt;stroke-linejoin:miter;stroke-opacity:1' />\n<path class='bond-4 atom-1 atom-5' d='M 207.6,92.1 L 197.7,121.9' style='fill:none;fill-rule:evenodd;stroke:#000000;stroke-width:2.0px;stroke-linecap:butt;stroke-linejoin:miter;stroke-opacity:1' />\n<path class='bond-5 atom-2 atom-6' d='M 266.8,60.7 L 266.9,59.0' style='fill:none;fill-rule:evenodd;stroke:#000000;stroke-width:2.0px;stroke-linecap:butt;stroke-linejoin:miter;stroke-opacity:1' />\n<path class='bond-6 atom-2 atom-7' d='M 266.8,60.7 L 270.9,28.1' style='fill:none;fill-rule:evenodd;stroke:#000000;stroke-width:2.0px;stroke-linecap:butt;stroke-linejoin:miter;stroke-opacity:1' />\n<path class='bond-7 atom-2 atom-8' d='M 266.8,60.7 L 297.1,86.2' style='fill:none;fill-rule:evenodd;stroke:#000000;stroke-width:2.0px;stroke-linecap:butt;stroke-linejoin:miter;stroke-opacity:1' />\n<path class='atom-0' d='M 151.7 47.4\nQ 151.7 42.6, 154.1 40.0\nQ 156.5 37.3, 160.9 37.3\nQ 165.3 37.3, 167.7 40.0\nQ 170.1 42.6, 170.1 47.4\nQ 170.1 52.3, 167.7 55.0\nQ 165.3 57.8, 160.9 57.8\nQ 156.5 57.8, 154.1 55.0\nQ 151.7 52.3, 151.7 47.4\nM 160.9 55.5\nQ 163.9 55.5, 165.6 53.5\nQ 167.2 51.4, 167.2 47.4\nQ 167.2 43.5, 165.6 41.5\nQ 163.9 39.5, 160.9 39.5\nQ 157.8 39.5, 156.2 41.5\nQ 154.5 43.5, 154.5 47.4\nQ 154.5 51.5, 156.2 53.5\nQ 157.8 55.5, 160.9 55.5\n' fill='#FF0000'/>\n<path class='atom-3' d='M 135.9 24.6\nL 138.7 24.6\nL 138.7 33.0\nL 148.9 33.0\nL 148.9 24.6\nL 151.6 24.6\nL 151.6 44.5\nL 148.9 44.5\nL 148.9 35.3\nL 138.7 35.3\nL 138.7 44.5\nL 135.9 44.5\nL 135.9 24.6\n' fill='#000000'/>\n<path class='atom-4' d='M 209.4 99.6\nL 212.1 99.6\nL 212.1 108.1\nL 222.4 108.1\nL 222.4 99.6\nL 225.1 99.6\nL 225.1 119.6\nL 222.4 119.6\nL 222.4 110.4\nL 212.1 110.4\nL 212.1 119.6\nL 209.4 119.6\nL 209.4 99.6\n' fill='#000000'/>\n<path class='atom-5' d='M 186.2 123.2\nL 188.9 123.2\nL 188.9 131.7\nL 199.1 131.7\nL 199.1 123.2\nL 201.8 123.2\nL 201.8 143.2\nL 199.1 143.2\nL 199.1 134.0\nL 188.9 134.0\nL 188.9 143.2\nL 186.2 143.2\nL 186.2 123.2\n' fill='#000000'/>\n<path class='atom-6' d='M 259.9 37.7\nL 262.6 37.7\nL 262.6 46.2\nL 272.8 46.2\nL 272.8 37.7\nL 275.5 37.7\nL 275.5 57.7\nL 272.8 57.7\nL 272.8 48.5\nL 262.6 48.5\nL 262.6 57.7\nL 259.9 57.7\nL 259.9 37.7\n' fill='#000000'/>\n<path class='atom-7' d='M 264.5 6.8\nL 267.2 6.8\nL 267.2 15.3\nL 277.4 15.3\nL 277.4 6.8\nL 280.1 6.8\nL 280.1 26.8\nL 277.4 26.8\nL 277.4 17.6\nL 267.2 17.6\nL 267.2 26.8\nL 264.5 26.8\nL 264.5 6.8\n' fill='#000000'/>\n<path class='atom-8' d='M 298.4 84.0\nL 301.1 84.0\nL 301.1 92.4\nL 311.3 92.4\nL 311.3 84.0\nL 314.1 84.0\nL 314.1 103.9\nL 311.3 103.9\nL 311.3 94.7\nL 301.1 94.7\nL 301.1 103.9\nL 298.4 103.9\nL 298.4 84.0\n' fill='#000000'/>\n</svg>\n",
            "image/png": "[encoded data removed]"
          },
          "metadata": {},
          "execution_count": 29
        }
      ]
    },
    {
      "cell_type": "code",
      "source": [
        "print(Chem.MolToMolBlock(m4))"
      ],
      "metadata": {
        "colab": {
          "base_uri": "https://localhost:8080/",
          "height": 0
        },
        "id": "4Z3d7_wazmE5",
        "outputId": "d88ba485-77c5-4924-d8a4-6435d7731901"
      },
      "execution_count": 30,
      "outputs": [
        {
          "output_type": "stream",
          "name": "stdout",
          "text": [
            "\n",
            "     RDKit          3D\n",
            "\n",
            "  9  8  0  0  0  0  0  0  0  0999 V2000\n",
            "   -1.3912    0.4953    0.3204 O   0  0  0  0  0  0  0  0  0  0  0  0\n",
            "   -0.3981   -0.4552    0.2238 C   0  0  0  0  0  0  0  0  0  0  0  0\n",
            "    0.8626    0.2122   -0.2408 C   0  0  0  0  0  0  0  0  0  0  0  0\n",
            "   -1.7557    0.7685   -0.5486 H   0  0  0  0  0  0  0  0  0  0  0  0\n",
            "   -0.1922   -0.8287    1.2666 H   0  0  0  0  0  0  0  0  0  0  0  0\n",
            "   -0.6874   -1.3305   -0.3754 H   0  0  0  0  0  0  0  0  0  0  0  0\n",
            "    0.8809    0.4881   -1.2906 H   0  0  0  0  0  0  0  0  0  0  0  0\n",
            "    0.9798    1.1458    0.3518 H   0  0  0  0  0  0  0  0  0  0  0  0\n",
            "    1.7012   -0.4954   -0.0417 H   0  0  0  0  0  0  0  0  0  0  0  0\n",
            "  1  2  1  0\n",
            "  2  3  1  0\n",
            "  1  4  1  0\n",
            "  2  5  1  0\n",
            "  2  6  1  0\n",
            "  3  7  1  0\n",
            "  3  8  1  0\n",
            "  3  9  1  0\n",
            "M  END\n",
            "\n"
          ]
        }
      ]
    },
    {
      "cell_type": "markdown",
      "source": [
        "# 두 분자의 유사도 확인하기\n",
        "- Chem.RDKFingerprint() 함수로 분자 특성 비트 정보 생성\n",
        "- Morgan Fingerprint, ECFP로 각 중심 원자에서 반지름만큼 떨어진 원자까지 고려하여 분자 특성 비트 정보 생성\n",
        "- Tanimoto Similarity를 계산하여 유사도 확인\n",
        "- Tanimoto similarity = (교집합의 개수)/(합집합의 개수)"
      ],
      "metadata": {
        "id": "dgsujUIA0Cjd"
      }
    },
    {
      "cell_type": "code",
      "source": [
        "fp_m = Chem.RDKFingerprint(m)\n",
        "fp_m2 = Chem.RDKFingerprint(m2)\n",
        "print(fp_m, fp_m2)"
      ],
      "metadata": {
        "colab": {
          "base_uri": "https://localhost:8080/",
          "height": 0
        },
        "id": "zMdWsKsBzzNC",
        "outputId": "b55079b6-30f7-4f90-986c-13d79a60df68"
      },
      "execution_count": 32,
      "outputs": [
        {
          "output_type": "stream",
          "name": "stdout",
          "text": [
            "<rdkit.DataStructs.cDataStructs.ExplicitBitVect object at 0x7f9afa4285d0> <rdkit.DataStructs.cDataStructs.ExplicitBitVect object at 0x7f9afa428260>\n"
          ]
        }
      ]
    },
    {
      "cell_type": "code",
      "source": [
        "DataStructs.FingerprintSimilarity(fp_m, fp_m2)"
      ],
      "metadata": {
        "colab": {
          "base_uri": "https://localhost:8080/",
          "height": 0
        },
        "id": "hSQAocDp02Cz",
        "outputId": "dd9267e2-1bcd-4ebb-b095-08a0dc486c1b"
      },
      "execution_count": 34,
      "outputs": [
        {
          "output_type": "execute_result",
          "data": {
            "text/plain": [
              "0.1167192429022082"
            ]
          },
          "metadata": {},
          "execution_count": 34
        }
      ]
    },
    {
      "cell_type": "code",
      "source": [
        "fp_m3 = Chem.RDKFingerprint(m3)\n",
        "fp_m4 = Chem.RDKFingerprint(m4)"
      ],
      "metadata": {
        "id": "9-llPbXA0vvs"
      },
      "execution_count": 33,
      "outputs": []
    },
    {
      "cell_type": "code",
      "source": [
        "DataStructs.FingerprintSimilarity(fp_m3, fp_m4)"
      ],
      "metadata": {
        "colab": {
          "base_uri": "https://localhost:8080/",
          "height": 0
        },
        "id": "nQOiVciB0-hw",
        "outputId": "d0b669ad-a4c4-49bb-9f24-d815778bc0a9"
      },
      "execution_count": 36,
      "outputs": [
        {
          "output_type": "execute_result",
          "data": {
            "text/plain": [
              "0.07142857142857142"
            ]
          },
          "metadata": {},
          "execution_count": 36
        }
      ]
    },
    {
      "cell_type": "code",
      "source": [
        "DataStructs.FingerprintSimilarity(fp_m, fp_m4)"
      ],
      "metadata": {
        "colab": {
          "base_uri": "https://localhost:8080/",
          "height": 0
        },
        "id": "P1rAA9FH1D7d",
        "outputId": "b689a329-72de-43d0-b973-6af895a86067"
      },
      "execution_count": 38,
      "outputs": [
        {
          "output_type": "execute_result",
          "data": {
            "text/plain": [
              "0.0"
            ]
          },
          "metadata": {},
          "execution_count": 38
        }
      ]
    },
    {
      "cell_type": "code",
      "source": [
        "# 비트 벡터 특성 정보 생성\n",
        "mfp_m = AllChem.GetMorganFingerprintAsBitVect(m, 2)\n",
        "mfp_m"
      ],
      "metadata": {
        "colab": {
          "base_uri": "https://localhost:8080/",
          "height": 0
        },
        "id": "63P7f3nr2DAk",
        "outputId": "fd6f159d-286f-4efd-8ec9-9e72ce0baf9e"
      },
      "execution_count": 49,
      "outputs": [
        {
          "output_type": "execute_result",
          "data": {
            "text/plain": [
              "<rdkit.DataStructs.cDataStructs.ExplicitBitVect at 0x7f9afa3c99e0>"
            ]
          },
          "metadata": {},
          "execution_count": 49
        }
      ]
    },
    {
      "cell_type": "code",
      "source": [
        "len(mfp_m)  # 2048비트로 구성됨"
      ],
      "metadata": {
        "colab": {
          "base_uri": "https://localhost:8080/",
          "height": 0
        },
        "id": "vTg5WXv43LAs",
        "outputId": "e2b7f8c1-3e0c-4551-d220-5c1c74ddbe17"
      },
      "execution_count": 51,
      "outputs": [
        {
          "output_type": "execute_result",
          "data": {
            "text/plain": [
              "2048"
            ]
          },
          "metadata": {},
          "execution_count": 51
        }
      ]
    },
    {
      "cell_type": "code",
      "source": [
        "mfp_m2 = AllChem.GetMorganFingerprintAsBitVect(m2, 2)\n",
        "mfp_m2"
      ],
      "metadata": {
        "colab": {
          "base_uri": "https://localhost:8080/",
          "height": 0
        },
        "id": "Qo2DbPNS2Lmo",
        "outputId": "86608f7f-ebcf-4a78-b795-95f94f188be2"
      },
      "execution_count": 42,
      "outputs": [
        {
          "output_type": "execute_result",
          "data": {
            "text/plain": [
              "<rdkit.DataStructs.cDataStructs.ExplicitBitVect at 0x7f9afa42d350>"
            ]
          },
          "metadata": {},
          "execution_count": 42
        }
      ]
    },
    {
      "cell_type": "code",
      "source": [
        "DataStructs.FingerprintSimilarity(mfp_m, mfp_m2)"
      ],
      "metadata": {
        "colab": {
          "base_uri": "https://localhost:8080/",
          "height": 0
        },
        "id": "YASs_4mg2fr6",
        "outputId": "fb94888f-58d7-46ee-c708-7777e1b1235a"
      },
      "execution_count": 44,
      "outputs": [
        {
          "output_type": "execute_result",
          "data": {
            "text/plain": [
              "0.19047619047619047"
            ]
          },
          "metadata": {},
          "execution_count": 44
        }
      ]
    }
  ]
}